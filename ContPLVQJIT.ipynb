{
  "cells": [
    {
      "cell_type": "code",
      "source": [
        "from google.colab import drive\n",
        "drive.mount('/content/drive')"
      ],
      "metadata": {
        "colab": {
          "base_uri": "https://localhost:8080/"
        },
        "id": "zogTxxdY7She",
        "outputId": "178be54d-d919-4c42-a600-90703134210f"
      },
      "execution_count": 1,
      "outputs": [
        {
          "output_type": "stream",
          "name": "stdout",
          "text": [
            "Mounted at /content/drive\n"
          ]
        }
      ]
    },
    {
      "cell_type": "code",
      "execution_count": 2,
      "metadata": {
        "id": "II5kXVJ06ZIv",
        "colab": {
          "base_uri": "https://localhost:8080/"
        },
        "outputId": "047e3471-da7d-4d49-f3f0-a604773234c6"
      },
      "outputs": [
        {
          "output_type": "stream",
          "name": "stdout",
          "text": [
            "\u001b[K     |████████████████████████████████| 76.6 MB 1.1 MB/s \n",
            "\u001b[?25h"
          ]
        }
      ],
      "source": [
        "!pip install catboost -q\n",
        "!pip install numba -q"
      ]
    },
    {
      "cell_type": "code",
      "execution_count": 3,
      "metadata": {
        "id": "2g9BkbqhHeDd"
      },
      "outputs": [],
      "source": [
        "import numpy as np\n",
        "from numba import jit\n",
        "import pandas as pd\n",
        "import shutil\n",
        "import seaborn as sns\n",
        "from time import time\n",
        "from tqdm import tqdm\n",
        "from sklearn.model_selection import train_test_split\n",
        "import matplotlib.pyplot as plt\n",
        "#from sklearn.preprocessing import One_Hot_Encoder\n",
        "from sklearn.metrics import accuracy_score\n",
        "from multiprocessing import  Pool\n",
        "import os\n",
        "from itertools import product"
      ]
    },
    {
      "cell_type": "code",
      "source": [
        "os.cpu_count()"
      ],
      "metadata": {
        "colab": {
          "base_uri": "https://localhost:8080/"
        },
        "id": "SNL2LdXtLBz4",
        "outputId": "a1a6550e-db8c-4263-8dcc-3e092ae2c143"
      },
      "execution_count": 4,
      "outputs": [
        {
          "output_type": "execute_result",
          "data": {
            "text/plain": [
              "2"
            ]
          },
          "metadata": {},
          "execution_count": 4
        }
      ]
    },
    {
      "cell_type": "code",
      "execution_count": 5,
      "metadata": {
        "id": "1D4xIcazGrsd"
      },
      "outputs": [],
      "source": [
        "data=pd.read_csv('/content/drive/MyDrive/rcgautograd7.csv')"
      ]
    },
    {
      "cell_type": "code",
      "execution_count": 6,
      "metadata": {
        "id": "LKaXBWUU4D74"
      },
      "outputs": [],
      "source": [
        "input=data[data.columns[:7]]\n",
        "output=data[data.columns[-7:]]\n"
      ]
    },
    {
      "cell_type": "code",
      "source": [
        "output"
      ],
      "metadata": {
        "colab": {
          "base_uri": "https://localhost:8080/",
          "height": 424
        },
        "id": "rlz7DUbftiYr",
        "outputId": "54ec42c0-6210-483c-ffb4-5d94448ed0a1"
      },
      "execution_count": 42,
      "outputs": [
        {
          "output_type": "execute_result",
          "data": {
            "text/plain": [
              "      output_0  output_1  output_2  output_3  output_4  output_5  output_6\n",
              "0          2.0       6.0      16.0      11.0      20.0      17.0      19.0\n",
              "1          0.0       5.0       2.0       9.0      12.0      13.0      16.0\n",
              "2          2.0       6.0       9.0      10.0      20.0      14.0      18.0\n",
              "3          0.0       5.0       8.0       9.0      16.0      17.0      20.0\n",
              "4         18.0       1.0       4.0      10.0      11.0      16.0      20.0\n",
              "...        ...       ...       ...       ...       ...       ...       ...\n",
              "2495       3.0      17.0       6.0       9.0      12.0      14.0      20.0\n",
              "2496       3.0      17.0       0.0       6.0       9.0      14.0      20.0\n",
              "2497      14.0       2.0       1.0       9.0      13.0      19.0      20.0\n",
              "2498      18.0       1.0       9.0      14.0      16.0      17.0      20.0\n",
              "2499       3.0       5.0       9.0      12.0      13.0      16.0      19.0\n",
              "\n",
              "[2500 rows x 7 columns]"
            ],
            "text/html": [
              "\n",
              "  <div id=\"df-7ea8b9fa-92bc-48af-884e-f4ca36d977bb\">\n",
              "    <div class=\"colab-df-container\">\n",
              "      <div>\n",
              "<style scoped>\n",
              "    .dataframe tbody tr th:only-of-type {\n",
              "        vertical-align: middle;\n",
              "    }\n",
              "\n",
              "    .dataframe tbody tr th {\n",
              "        vertical-align: top;\n",
              "    }\n",
              "\n",
              "    .dataframe thead th {\n",
              "        text-align: right;\n",
              "    }\n",
              "</style>\n",
              "<table border=\"1\" class=\"dataframe\">\n",
              "  <thead>\n",
              "    <tr style=\"text-align: right;\">\n",
              "      <th></th>\n",
              "      <th>output_0</th>\n",
              "      <th>output_1</th>\n",
              "      <th>output_2</th>\n",
              "      <th>output_3</th>\n",
              "      <th>output_4</th>\n",
              "      <th>output_5</th>\n",
              "      <th>output_6</th>\n",
              "    </tr>\n",
              "  </thead>\n",
              "  <tbody>\n",
              "    <tr>\n",
              "      <th>0</th>\n",
              "      <td>2.0</td>\n",
              "      <td>6.0</td>\n",
              "      <td>16.0</td>\n",
              "      <td>11.0</td>\n",
              "      <td>20.0</td>\n",
              "      <td>17.0</td>\n",
              "      <td>19.0</td>\n",
              "    </tr>\n",
              "    <tr>\n",
              "      <th>1</th>\n",
              "      <td>0.0</td>\n",
              "      <td>5.0</td>\n",
              "      <td>2.0</td>\n",
              "      <td>9.0</td>\n",
              "      <td>12.0</td>\n",
              "      <td>13.0</td>\n",
              "      <td>16.0</td>\n",
              "    </tr>\n",
              "    <tr>\n",
              "      <th>2</th>\n",
              "      <td>2.0</td>\n",
              "      <td>6.0</td>\n",
              "      <td>9.0</td>\n",
              "      <td>10.0</td>\n",
              "      <td>20.0</td>\n",
              "      <td>14.0</td>\n",
              "      <td>18.0</td>\n",
              "    </tr>\n",
              "    <tr>\n",
              "      <th>3</th>\n",
              "      <td>0.0</td>\n",
              "      <td>5.0</td>\n",
              "      <td>8.0</td>\n",
              "      <td>9.0</td>\n",
              "      <td>16.0</td>\n",
              "      <td>17.0</td>\n",
              "      <td>20.0</td>\n",
              "    </tr>\n",
              "    <tr>\n",
              "      <th>4</th>\n",
              "      <td>18.0</td>\n",
              "      <td>1.0</td>\n",
              "      <td>4.0</td>\n",
              "      <td>10.0</td>\n",
              "      <td>11.0</td>\n",
              "      <td>16.0</td>\n",
              "      <td>20.0</td>\n",
              "    </tr>\n",
              "    <tr>\n",
              "      <th>...</th>\n",
              "      <td>...</td>\n",
              "      <td>...</td>\n",
              "      <td>...</td>\n",
              "      <td>...</td>\n",
              "      <td>...</td>\n",
              "      <td>...</td>\n",
              "      <td>...</td>\n",
              "    </tr>\n",
              "    <tr>\n",
              "      <th>2495</th>\n",
              "      <td>3.0</td>\n",
              "      <td>17.0</td>\n",
              "      <td>6.0</td>\n",
              "      <td>9.0</td>\n",
              "      <td>12.0</td>\n",
              "      <td>14.0</td>\n",
              "      <td>20.0</td>\n",
              "    </tr>\n",
              "    <tr>\n",
              "      <th>2496</th>\n",
              "      <td>3.0</td>\n",
              "      <td>17.0</td>\n",
              "      <td>0.0</td>\n",
              "      <td>6.0</td>\n",
              "      <td>9.0</td>\n",
              "      <td>14.0</td>\n",
              "      <td>20.0</td>\n",
              "    </tr>\n",
              "    <tr>\n",
              "      <th>2497</th>\n",
              "      <td>14.0</td>\n",
              "      <td>2.0</td>\n",
              "      <td>1.0</td>\n",
              "      <td>9.0</td>\n",
              "      <td>13.0</td>\n",
              "      <td>19.0</td>\n",
              "      <td>20.0</td>\n",
              "    </tr>\n",
              "    <tr>\n",
              "      <th>2498</th>\n",
              "      <td>18.0</td>\n",
              "      <td>1.0</td>\n",
              "      <td>9.0</td>\n",
              "      <td>14.0</td>\n",
              "      <td>16.0</td>\n",
              "      <td>17.0</td>\n",
              "      <td>20.0</td>\n",
              "    </tr>\n",
              "    <tr>\n",
              "      <th>2499</th>\n",
              "      <td>3.0</td>\n",
              "      <td>5.0</td>\n",
              "      <td>9.0</td>\n",
              "      <td>12.0</td>\n",
              "      <td>13.0</td>\n",
              "      <td>16.0</td>\n",
              "      <td>19.0</td>\n",
              "    </tr>\n",
              "  </tbody>\n",
              "</table>\n",
              "<p>2500 rows × 7 columns</p>\n",
              "</div>\n",
              "      <button class=\"colab-df-convert\" onclick=\"convertToInteractive('df-7ea8b9fa-92bc-48af-884e-f4ca36d977bb')\"\n",
              "              title=\"Convert this dataframe to an interactive table.\"\n",
              "              style=\"display:none;\">\n",
              "        \n",
              "  <svg xmlns=\"http://www.w3.org/2000/svg\" height=\"24px\"viewBox=\"0 0 24 24\"\n",
              "       width=\"24px\">\n",
              "    <path d=\"M0 0h24v24H0V0z\" fill=\"none\"/>\n",
              "    <path d=\"M18.56 5.44l.94 2.06.94-2.06 2.06-.94-2.06-.94-.94-2.06-.94 2.06-2.06.94zm-11 1L8.5 8.5l.94-2.06 2.06-.94-2.06-.94L8.5 2.5l-.94 2.06-2.06.94zm10 10l.94 2.06.94-2.06 2.06-.94-2.06-.94-.94-2.06-.94 2.06-2.06.94z\"/><path d=\"M17.41 7.96l-1.37-1.37c-.4-.4-.92-.59-1.43-.59-.52 0-1.04.2-1.43.59L10.3 9.45l-7.72 7.72c-.78.78-.78 2.05 0 2.83L4 21.41c.39.39.9.59 1.41.59.51 0 1.02-.2 1.41-.59l7.78-7.78 2.81-2.81c.8-.78.8-2.07 0-2.86zM5.41 20L4 18.59l7.72-7.72 1.47 1.35L5.41 20z\"/>\n",
              "  </svg>\n",
              "      </button>\n",
              "      \n",
              "  <style>\n",
              "    .colab-df-container {\n",
              "      display:flex;\n",
              "      flex-wrap:wrap;\n",
              "      gap: 12px;\n",
              "    }\n",
              "\n",
              "    .colab-df-convert {\n",
              "      background-color: #E8F0FE;\n",
              "      border: none;\n",
              "      border-radius: 50%;\n",
              "      cursor: pointer;\n",
              "      display: none;\n",
              "      fill: #1967D2;\n",
              "      height: 32px;\n",
              "      padding: 0 0 0 0;\n",
              "      width: 32px;\n",
              "    }\n",
              "\n",
              "    .colab-df-convert:hover {\n",
              "      background-color: #E2EBFA;\n",
              "      box-shadow: 0px 1px 2px rgba(60, 64, 67, 0.3), 0px 1px 3px 1px rgba(60, 64, 67, 0.15);\n",
              "      fill: #174EA6;\n",
              "    }\n",
              "\n",
              "    [theme=dark] .colab-df-convert {\n",
              "      background-color: #3B4455;\n",
              "      fill: #D2E3FC;\n",
              "    }\n",
              "\n",
              "    [theme=dark] .colab-df-convert:hover {\n",
              "      background-color: #434B5C;\n",
              "      box-shadow: 0px 1px 3px 1px rgba(0, 0, 0, 0.15);\n",
              "      filter: drop-shadow(0px 1px 2px rgba(0, 0, 0, 0.3));\n",
              "      fill: #FFFFFF;\n",
              "    }\n",
              "  </style>\n",
              "\n",
              "      <script>\n",
              "        const buttonEl =\n",
              "          document.querySelector('#df-7ea8b9fa-92bc-48af-884e-f4ca36d977bb button.colab-df-convert');\n",
              "        buttonEl.style.display =\n",
              "          google.colab.kernel.accessAllowed ? 'block' : 'none';\n",
              "\n",
              "        async function convertToInteractive(key) {\n",
              "          const element = document.querySelector('#df-7ea8b9fa-92bc-48af-884e-f4ca36d977bb');\n",
              "          const dataTable =\n",
              "            await google.colab.kernel.invokeFunction('convertToInteractive',\n",
              "                                                     [key], {});\n",
              "          if (!dataTable) return;\n",
              "\n",
              "          const docLinkHtml = 'Like what you see? Visit the ' +\n",
              "            '<a target=\"_blank\" href=https://colab.research.google.com/notebooks/data_table.ipynb>data table notebook</a>'\n",
              "            + ' to learn more about interactive tables.';\n",
              "          element.innerHTML = '';\n",
              "          dataTable['output_type'] = 'display_data';\n",
              "          await google.colab.output.renderOutput(dataTable, element);\n",
              "          const docLink = document.createElement('div');\n",
              "          docLink.innerHTML = docLinkHtml;\n",
              "          element.appendChild(docLink);\n",
              "        }\n",
              "      </script>\n",
              "    </div>\n",
              "  </div>\n",
              "  "
            ]
          },
          "metadata": {},
          "execution_count": 42
        }
      ]
    },
    {
      "cell_type": "code",
      "execution_count": 7,
      "metadata": {
        "id": "kSAkE1V_BsFM"
      },
      "outputs": [],
      "source": [
        "X=np.zeros((input.shape[0],21))\n",
        "y=np.zeros((input.shape[0],21),'int16')\n",
        "for ind,x in enumerate(input.values.astype(int)):\n",
        "  X[ind,x]=1#range(1,6)[::-1]\n",
        "for ind,n in enumerate(output.values.astype(int)):\n",
        "  y[ind,n]=1"
      ]
    },
    {
      "cell_type": "code",
      "source": [
        "y"
      ],
      "metadata": {
        "colab": {
          "base_uri": "https://localhost:8080/"
        },
        "id": "WcbLDMKHtO1C",
        "outputId": "220c4b6f-080b-4732-a58d-a3ef19b6cdb0"
      },
      "execution_count": 8,
      "outputs": [
        {
          "output_type": "execute_result",
          "data": {
            "text/plain": [
              "array([[0, 0, 1, ..., 0, 1, 1],\n",
              "       [1, 0, 1, ..., 0, 0, 0],\n",
              "       [0, 0, 1, ..., 1, 0, 1],\n",
              "       ...,\n",
              "       [0, 1, 1, ..., 0, 1, 1],\n",
              "       [0, 1, 0, ..., 1, 0, 1],\n",
              "       [0, 0, 0, ..., 0, 1, 0]], dtype=int16)"
            ]
          },
          "metadata": {},
          "execution_count": 8
        }
      ]
    },
    {
      "cell_type": "code",
      "source": [
        "y[0]"
      ],
      "metadata": {
        "colab": {
          "base_uri": "https://localhost:8080/"
        },
        "id": "CXhlHCAItU8l",
        "outputId": "741d59f3-ee3b-4673-d691-877a13fc5496"
      },
      "execution_count": 9,
      "outputs": [
        {
          "output_type": "execute_result",
          "data": {
            "text/plain": [
              "array([0, 0, 1, 0, 0, 0, 1, 0, 0, 0, 0, 1, 0, 0, 0, 0, 1, 1, 0, 1, 1],\n",
              "      dtype=int16)"
            ]
          },
          "metadata": {},
          "execution_count": 9
        }
      ]
    },
    {
      "cell_type": "code",
      "execution_count": 10,
      "metadata": {
        "id": "ES6nTDk3CPVK"
      },
      "outputs": [],
      "source": [
        "def my_metric(pred,actual):\n",
        "  number=[]\n",
        "  for ind,pre in enumerate(pred):\n",
        "    act=np.argsort(actual[ind])[-7:]\n",
        "    number.append(np.isin(act,pre).sum())\n",
        "  return np.mean(number)\n",
        "def top_7(value):\n",
        "  li=[]\n",
        "  for val in value:\n",
        "    li.append(list(np.argsort(val)[-7:]))\n",
        "  return li"
      ]
    },
    {
      "cell_type": "code",
      "execution_count": 11,
      "metadata": {
        "id": "r5rhYlN5Inlw"
      },
      "outputs": [],
      "source": [
        "from sklearn.model_selection import train_test_split\n",
        "from sklearn.metrics import mean_squared_error\n",
        "import lightgbm as lgb \n",
        "from catboost import CatBoostClassifier \n",
        "from sklearn.ensemble import VotingClassifier\n",
        "from sklearn.ensemble import RandomForestClassifier\n",
        "from xgboost import XGBClassifier\n",
        "from sklearn.linear_model import LogisticRegression\n",
        "from sklearn.multioutput import MultiOutputClassifier\n",
        "X_train, X_test, y_train, y_test = train_test_split(X, y, test_size=0.3, random_state=42,shuffle=True)\n",
        "actual_locs=top_7(y_test)"
      ]
    },
    {
      "cell_type": "code",
      "execution_count": 12,
      "metadata": {
        "id": "ANrQsppHy52c"
      },
      "outputs": [],
      "source": [
        "train=np.concatenate([X_train,y_train[:,0].reshape(-1,1)],axis=1)"
      ]
    },
    {
      "cell_type": "code",
      "source": [
        "#np.repeat(X_test[0].reshape(1,-1),6,axis=0)"
      ],
      "metadata": {
        "id": "c6aPSOGxjOdL"
      },
      "execution_count": 13,
      "outputs": []
    },
    {
      "cell_type": "code",
      "execution_count": 14,
      "metadata": {
        "id": "ZvmNVHrDGFug"
      },
      "outputs": [],
      "source": [
        "from random import seed\n",
        "from random import randrange\n",
        "from csv import reader\n",
        "from math import sqrt\n",
        " \n",
        "# calculate the Euclidean distance between two vectors\n",
        "@jit(nopython=True)\n",
        "def euclidean_distance(row1, row2):\n",
        "  dist = np.linalg.norm(row1[:21]-row2[:21])\n",
        "  return dist\n",
        "  #  distance = 0.0\n",
        "  #  for i in range(len(row1)-1):\n",
        "   #     distance += (row1[i] - row2[i])**2\n",
        "   # return sqrt(distance)\n",
        " \n",
        "# Locate the best matching unit\n",
        "@jit(nopython=True)\n",
        "def get_best_matching_unit(codebooks, test_row):\n",
        "  #dists=np.apply_along_axis(euclidean_distance,1,codebooks,test_row)\n",
        " # return codebooks[np.argmin(dists)]\n",
        "    distances = list()\n",
        "    for codebook in codebooks:\n",
        "       dist = euclidean_distance(codebook, test_row)\n",
        "       distances.append((codebook, dist))\n",
        "    distances.sort(key=lambda tup: tup[1])\n",
        "    return distances[0][0]\n",
        "def get_best_k_matching_units(codebooks,test_row,k):\n",
        "  distances = list()\n",
        "  for codebook in codebooks:\n",
        "      dist = euclidean_distance(codebook, test_row)\n",
        "      distances.append((codebook, dist))\n",
        "  distances.sort(key=lambda tup: tup[1])\n",
        "  return distances[:k]\n",
        "@jit(nopython=True)\n",
        "def get_closest_1(codebooks,test_row):\n",
        "  distances = list()\n",
        "  for codebook in codebooks :\n",
        "    if codebook[-1]==1:\n",
        "      dist = euclidean_distance(codebook, test_row)\n",
        "      distances.append((codebook, dist))\n",
        "  if distances:\n",
        "    distances.sort(key=lambda tup: tup[1])\n",
        "    return distances[0][1]\n",
        "  else :\n",
        "    return 1000\n",
        "# Make a prediction with codebook vectors\n",
        "@jit(nopython=True)\n",
        "def predict_best(codebooks, test_row):\n",
        "    bmu = get_best_matching_unit(codebooks, test_row)\n",
        "    return bmu[-1]\n",
        "\n",
        "def random_codebook(train,n_codebooks):\n",
        "    code_indices=np.random.choice(range(train.shape[0]),n_codebooks,replace=False)\n",
        "    codebooks=train[code_indices]\n",
        "    return codebooks\n",
        " \n",
        "# Train a set of codebook vectors\n",
        "\n",
        "def train_codebooks(train, self):\n",
        "    codebooks=random_codebook(train,self.n_codebooks)\n",
        "    for epoch in range(self.n_epochs):\n",
        "        rate = self.lr * (1.0-(epoch/float(self.n_epochs)))\n",
        "        for row in train:\n",
        "            bmu = get_best_matching_unit(codebooks, row)\n",
        "            error= row[:-1] - bmu[:-1]\n",
        "            if bmu[-1] == row[-1]:\n",
        "              bmu[:-1] += rate * error\n",
        "            else:\n",
        "                    bmu[:-1] -= rate * error\n",
        "           # for i in range(len(row)-1):\n",
        "            #    error = row[i] - bmu[i]\n",
        "            #    if bmu[-1] == row[-1]:\n",
        "            #        bmu[i] += rate * error\n",
        "             #   else:\n",
        "             #       bmu[i] -= rate * error\n",
        "    return codebooks\n",
        " \n",
        "# LVQ Algorithm\n",
        "#n_folds = 5\n",
        "#learn_rate = 0.3\n",
        "#n_epochs = 50\n",
        "#n_codebooks = 20"
      ]
    },
    {
      "cell_type": "code",
      "execution_count": 15,
      "metadata": {
        "id": "H53Y8XkLuv4g"
      },
      "outputs": [],
      "source": [
        "class LVQ():\n",
        "  def __init__(self,n_codebooks=50,k=10,n_epochs=10,lr=0.3,seed=42):\n",
        "        self.n_codebooks = n_codebooks\n",
        "        self.n_epochs = n_epochs\n",
        "        self.k = k\n",
        "        self.lr = lr\n",
        "        self.seed=seed\n",
        "  def fit(self,X_train,y_train):\n",
        "    train=np.concatenate([X_train,y_train.reshape(-1,1)],axis=1)\n",
        "    np.random.seed(self.seed)\n",
        "    trained_codebooks=train_codebooks(train,self)\n",
        "    self.trained_codebooks=trained_codebooks\n",
        "    return trained_codebooks\n",
        "  def predict(self,test_X):\n",
        "    self.preds=np.zeros(test_X.shape[0])\n",
        "    for num,test_row in enumerate(test_X):\n",
        "        self.preds[num]=predict_best(self.trained_codebooks,test_row)\n",
        "    return self.preds \n",
        "  def predict_distances(self,test_X):\n",
        "    k_closest=np.zeros((test_X.shape[0],self.k))\n",
        "    for num,test_row in enumerate(test_X):\n",
        "        k_best=get_best_k_matching_units(self.trained_codebooks,test_row,self.k)\n",
        "        for ind,dist in enumerate(k_best):\n",
        "          if dist[0][-1]==0:\n",
        "            k_closest[num,ind]=dist[1]*-1\n",
        "          else :\n",
        "            k_closest[num,ind]=dist[1]\n",
        "    return k_closest\n",
        "  def predict_proba(self,test_X):\n",
        "    closest=np.zeros((test_X.shape[0]))\n",
        "    for num,test_row in enumerate(test_X):\n",
        "        closest[num]=1/(get_closest_1(self.trained_codebooks,test_row))\n",
        "    return closest"
      ]
    },
    {
      "cell_type": "code",
      "execution_count": 16,
      "metadata": {
        "id": "Ke_P-uQKxeR1"
      },
      "outputs": [],
      "source": [
        "class multi_class():\n",
        "  def __init__(self,model):\n",
        "        self.n_codebooks = model.n_codebooks\n",
        "        self.n_epochs = model.n_epochs\n",
        "        self.k = model.k\n",
        "        self.lr = model.lr\n",
        "        self.seed=model.seed\n",
        "        self.model=model\n",
        "        self.codebooks=[]\n",
        "  def fit(self,X,y):\n",
        "    self.n_classes=y.shape[1]\n",
        "    for num in tqdm(range(y.shape[1])):\n",
        "      model=self.model\n",
        "      model=model.fit(X,y[:,num])\n",
        "      self.codebooks.append(model)\n",
        "  def new_fit(self,X,y):\n",
        "    self.n_classes=y.shape[1]\n",
        "    if __name__ == '__main__':\n",
        "      pool = Pool()                        \n",
        "      self.codebooks=list(pool.starmap(self.model.fit, zip(np.repeat(X[None,:],self.n_classes,axis=0),np.transpose(y))))\n",
        "  def predict(self,test):\n",
        "    preds=np.zeros((test.shape[0],self.n_classes))\n",
        "    for num,codebook in enumerate(self.codebooks):\n",
        "      for ind,test_row in enumerate(test):\n",
        "        bmu = get_best_matching_unit(codebook, test_row)\n",
        "        preds[ind,num]=bmu[-1]\n",
        "    return preds\n",
        "  def predict_proba(self,test_X):\n",
        "    preds=np.zeros((test_X.shape[0],self.n_classes))\n",
        "    for num,model in enumerate(self.codebooks):\n",
        "      for ind,test_row in enumerate(test_X):\n",
        "        preds[ind,num]=1/(get_closest_1(model,test_row)) \n",
        "    return preds"
      ]
    },
    {
      "cell_type": "code",
      "execution_count": 17,
      "metadata": {
        "colab": {
          "base_uri": "https://localhost:8080/"
        },
        "id": "fkqY1ncAeqm-",
        "outputId": "bc5960a5-55bd-4c14-c070-2367b5107ac0"
      },
      "outputs": [
        {
          "output_type": "stream",
          "name": "stdout",
          "text": [
            "Mean no of accurate locations for test  1.5266666666666666\n"
          ]
        }
      ],
      "source": [
        "# creating dummy_model i.e random predictions\n",
        "import random,numpy\n",
        "# seeding the environment to enable reproductibility of results\n",
        "seed=12\n",
        "np.random.seed(seed)\n",
        "rand_cities =np.random.choice(range(y_train.shape[1]),(X_test.shape[0],5))\n",
        "random_test_score=my_metric(rand_cities,y_test)\n",
        "print(\"Mean no of accurate locations for test \",random_test_score )"
      ]
    },
    {
      "cell_type": "code",
      "source": [
        "def eval_model(model):\n",
        "  test_acc=accuracy_score(y_test.reshape(-1),model.predict(X_test).reshape(-1))\n",
        "  train_acc=accuracy_score(y_train.reshape(-1),model.predict(X_train).reshape(-1))\n",
        "  return train_acc,test_acc"
      ],
      "metadata": {
        "id": "FEMRptOCbJdy"
      },
      "execution_count": 18,
      "outputs": []
    },
    {
      "cell_type": "code",
      "execution_count": 19,
      "metadata": {
        "id": "wmou0McLDkrR"
      },
      "outputs": [],
      "source": [
        "fit_time=[]\n",
        "predict_time=[]\n",
        "models=[]\n",
        "test_scores=[]\n",
        "train_scores=[]\n",
        "test_acc=[]\n",
        "train_acc=[]\n",
        "descr=[]\n",
        "def save_model_info(fit,predict,model,test_score,train_score,train,test,desc):\n",
        "  fit_time.append(fit)\n",
        "  predict_time.append(predict)\n",
        "  models.append(model)\n",
        "  test_acc.append(test)\n",
        "  train_acc.append(train)\n",
        "  test_scores.append(test_score)\n",
        "  train_scores.append(train_score)\n",
        "  descr.append(desc)"
      ]
    },
    {
      "cell_type": "code",
      "source": [
        "%%capture\n",
        "#import futures\n",
        "'''executor = futures.ProcessPoolExecutor(10)\n",
        "futures = [executor.submit(try_my_operation, item) for item in items]\n",
        "futures.wait(futures)'''"
      ],
      "metadata": {
        "id": "MD1eHFboNnsI"
      },
      "execution_count": 20,
      "outputs": []
    },
    {
      "cell_type": "code",
      "source": [
        "# set the range of parameters for the model to try \n",
        "params_dict={'lr':[0.1,0.2,0.05],\n",
        "             'n_codebooks':[20,40,50],\n",
        "             'n_epochs':[10,20,50]}"
      ],
      "metadata": {
        "id": "8q4nJ29oRlBW"
      },
      "execution_count": 21,
      "outputs": []
    },
    {
      "cell_type": "code",
      "source": [
        "#params=list(params_dict.keys())\n",
        "#all_vals=list(product(*list(params_dict.values())))\n",
        "#for vals in all_vals:\n",
        " # res = dict(zip(params, vals))\n",
        "  #lv=LVQ()\n",
        "  #list(map(lambda item: setattr(lv, *item), res.items()))\n",
        "  #print(('Training with parameters '+': {} '.join(params)+': {}').format(*vals))\n",
        "  #mc=multi_class(lv)\n",
        "  #mc.new_fit(X_train,y_train)\n",
        "  #lvq_proba=mc.predict_proba(X_test)\n",
        "  #predicted_locs=top_5(lvq_proba)\n",
        "  #test_score=my_metric(predicted_locs,y_test)\n",
        "  #print(\"Mean no of accurate locations for test \",test_score)\n",
        "  #train_accuracy,test_accuracy=eval_model(mc)\n",
        "  #print(\"accuracy for test \",test_accuracy)\n",
        "  #print(\"accuracy for train \",train_accuracy)"
      ],
      "metadata": {
        "id": "FpAd8RRADDeV"
      },
      "execution_count": 22,
      "outputs": []
    },
    {
      "cell_type": "code",
      "execution_count": 23,
      "metadata": {
        "colab": {
          "base_uri": "https://localhost:8080/"
        },
        "id": "CSwy59uD7zmy",
        "outputId": "f6d1f98a-5de5-4fc6-d69c-9bbe0f9d4fb1"
      },
      "outputs": [
        {
          "output_type": "stream",
          "name": "stderr",
          "text": [
            "100%|██████████| 21/21 [01:21<00:00,  3.89s/it]\n"
          ]
        },
        {
          "output_type": "stream",
          "name": "stdout",
          "text": [
            "Mean no of accurate locations for test  5.126666666666667\n",
            "Mean no of accurate locations for train  5.6651428571428575\n",
            "accuracy for test  0.8445079365079365\n",
            "accuracy for train  0.9082721088435374\n"
          ]
        }
      ],
      "source": [
        "lv=LVQ(n_codebooks=40,lr=0.2,n_epochs=70)\n",
        "lvqmc=multi_class(lv)\n",
        "start_fit=time()\n",
        "lvqmc.fit(X_train,y_train)\n",
        "end_fit=time()\n",
        "lvq_proba=lvqmc.predict_proba(X_test)\n",
        "lvq_train_proba=lvqmc.predict_proba(X_train)\n",
        "end_pred=time()\n",
        "predicted_locs=top_7(lvq_proba)\n",
        "test_score=my_metric(predicted_locs,y_test)\n",
        "train_score=my_metric(top_7(lvq_train_proba),y_train)\n",
        "print(\"Mean no of accurate locations for test \",test_score)\n",
        "print(\"Mean no of accurate locations for train \",train_score)\n",
        "train_accuracy,test_accuracy=eval_model(lvqmc)\n",
        "print(\"accuracy for test \",test_accuracy)\n",
        "print(\"accuracy for train \",train_accuracy)\n",
        "save_model_info(end_fit-start_fit,end_pred-end_fit,'lvqmc',test_score,train_score,train_accuracy,test_accuracy,'lvq model with 50 codebooks')"
      ]
    },
    {
      "cell_type": "code",
      "source": [
        "lv=LVQ(n_codebooks=40,lr=0.2,n_epochs=70)\n",
        "mc=multi_class(lv)\n",
        "start_fit=time()\n",
        "mc.new_fit(X_train,y_train)\n",
        "end_fit=time()\n",
        "lvq_proba=mc.predict_proba(X_test)\n",
        "lvq_train_proba=mc.predict_proba(X_train)\n",
        "end_pred=time()\n",
        "predicted_locs=top_7(lvq_proba)\n",
        "test_score=my_metric(predicted_locs,y_test)\n",
        "train_score=my_metric(top_7(lvq_train_proba),y_train)\n",
        "print(\"Mean no of accurate locations for test \",test_score)\n",
        "print(\"Mean no of accurate locations for train \",train_score)\n",
        "train_accuracy,test_accuracy=eval_model(mc)\n",
        "print(\"accuracy for test \",test_accuracy)\n",
        "print(\"accuracy for train \",train_accuracy)\n",
        "save_model_info(end_fit-start_fit,end_pred-end_fit,'mcLVQ',test_score,train_score,train_accuracy,test_accuracy,'lvq model with multiprocessing')\n",
        "predicted_locs[:10]"
      ],
      "metadata": {
        "colab": {
          "base_uri": "https://localhost:8080/"
        },
        "id": "vlcCusleSws1",
        "outputId": "b6b2d1f9-a0ca-440b-c74c-74e420c6b438"
      },
      "execution_count": 24,
      "outputs": [
        {
          "output_type": "stream",
          "name": "stdout",
          "text": [
            "Mean no of accurate locations for test  5.126666666666667\n",
            "Mean no of accurate locations for train  5.6651428571428575\n",
            "accuracy for test  0.8445079365079365\n",
            "accuracy for train  0.9082721088435374\n"
          ]
        },
        {
          "output_type": "execute_result",
          "data": {
            "text/plain": [
              "[[9, 17, 16, 18, 13, 20, 19],\n",
              " [2, 17, 18, 20, 16, 13, 11],\n",
              " [20, 7, 17, 1, 14, 11, 9],\n",
              " [6, 15, 8, 16, 7, 9, 11],\n",
              " [11, 20, 16, 19, 15, 1, 17],\n",
              " [1, 16, 20, 18, 10, 17, 9],\n",
              " [5, 2, 15, 9, 16, 3, 20],\n",
              " [3, 18, 2, 16, 17, 6, 20],\n",
              " [17, 16, 14, 20, 11, 7, 1],\n",
              " [10, 17, 6, 9, 2, 20, 19]]"
            ]
          },
          "metadata": {},
          "execution_count": 24
        }
      ]
    },
    {
      "cell_type": "code",
      "source": [
        "actual_locs[:10]"
      ],
      "metadata": {
        "colab": {
          "base_uri": "https://localhost:8080/"
        },
        "id": "NFu0d4dsPUMJ",
        "outputId": "1493499a-1e54-48a8-8e2a-e9abc1a55903"
      },
      "execution_count": 25,
      "outputs": [
        {
          "output_type": "execute_result",
          "data": {
            "text/plain": [
              "[[9, 19, 13, 2, 16, 17, 20],\n",
              " [6, 11, 13, 2, 16, 18, 20],\n",
              " [9, 11, 14, 16, 1, 7, 20],\n",
              " [8, 9, 5, 11, 13, 15, 17],\n",
              " [5, 9, 11, 12, 15, 17, 18],\n",
              " [17, 16, 10, 9, 1, 15, 20],\n",
              " [16, 0, 7, 5, 3, 11, 20],\n",
              " [9, 5, 14, 2, 16, 17, 20],\n",
              " [11, 14, 1, 16, 17, 18, 20],\n",
              " [18, 17, 0, 6, 5, 9, 20]]"
            ]
          },
          "metadata": {},
          "execution_count": 25
        }
      ]
    },
    {
      "cell_type": "code",
      "source": [
        "fit_time"
      ],
      "metadata": {
        "colab": {
          "base_uri": "https://localhost:8080/"
        },
        "id": "asudaLiSdV0G",
        "outputId": "513c8576-aabb-4c55-ab6a-e5a7398e1dc4"
      },
      "execution_count": 26,
      "outputs": [
        {
          "output_type": "execute_result",
          "data": {
            "text/plain": [
              "[81.7098069190979, 55.186259508132935]"
            ]
          },
          "metadata": {},
          "execution_count": 26
        }
      ]
    },
    {
      "cell_type": "code",
      "execution_count": 27,
      "metadata": {
        "id": "Hcw2JuJLIpkF",
        "colab": {
          "base_uri": "https://localhost:8080/"
        },
        "outputId": "699f0780-eba4-45a5-b427-47c209aaf7ca"
      },
      "outputs": [
        {
          "output_type": "stream",
          "name": "stdout",
          "text": [
            "Mean no of accurate locations for test  5.244\n",
            "Mean no of accurate locations for train  5.287428571428571\n",
            "accuracy for train  0.8188571428571428\n",
            "accuracy for test  0.8158095238095238\n"
          ]
        }
      ],
      "source": [
        "from sklearn.neighbors import KNeighborsClassifier\n",
        "kn=KNeighborsClassifier(n_neighbors=150)\n",
        "knn=MultiOutputClassifier(kn)\n",
        "start_fit=time()\n",
        "knn.fit(X_train,y_train)\n",
        "end_fit=time()\n",
        "knn_proba=np.stack(knn.predict_proba(X_test), axis=1 )[:,:,1]\n",
        "knn_train_proba=np.stack(knn.predict_proba(X_train), axis=1 )[:,:,1]\n",
        "end_pred=time()\n",
        "predicted_locs=top_7(knn_proba) \n",
        "test_score=my_metric(predicted_locs,y_test)\n",
        "train_score=my_metric(top_7(knn_train_proba),y_train)\n",
        "print(\"Mean no of accurate locations for test \",test_score)\n",
        "print(\"Mean no of accurate locations for train \",train_score)\n",
        "train_accuracy,test_accuracy=eval_model(knn)\n",
        "print(\"accuracy for train \",train_accuracy)\n",
        "print(\"accuracy for test \",test_accuracy)\n",
        "save_model_info(end_fit-start_fit,end_pred-end_fit,'knn',test_score,train_score,train_accuracy,test_accuracy,'KNearestNeighborsClassifier with k as 150')"
      ]
    },
    {
      "cell_type": "code",
      "execution_count": 28,
      "metadata": {
        "id": "twqVKzXvbobD",
        "colab": {
          "base_uri": "https://localhost:8080/"
        },
        "outputId": "487e0ee9-3067-4084-942d-4e2bc22457bd"
      },
      "outputs": [
        {
          "output_type": "stream",
          "name": "stdout",
          "text": [
            "Mean no of accurate locations for test  5.834666666666666\n",
            "Mean no of accurate locations for train  7.0\n",
            "accuracy for train  1.0\n",
            "accuracy for test  0.8882539682539683\n"
          ]
        }
      ],
      "source": [
        "r=RandomForestClassifier(n_estimators=500,max_depth=20,min_samples_split=2,max_features=0.2,random_state=12, max_samples=0.8)\n",
        "rf=MultiOutputClassifier(r)\n",
        "start_fit=time()\n",
        "rf.fit(X_train,y_train)\n",
        "end_fit=time()\n",
        "rf_proba=np.stack(rf.predict_proba(X_test), axis=1 )[:,:,1]\n",
        "rf_train_proba=np.stack(rf.predict_proba(X_train), axis=1 )[:,:,1]\n",
        "end_pred=time()\n",
        "predicted_locs=top_7(rf_proba)\n",
        "test_score=my_metric(predicted_locs,y_test)\n",
        "train_score=my_metric(top_7(rf_train_proba),y_train)\n",
        "print(\"Mean no of accurate locations for test \",test_score )\n",
        "print(\"Mean no of accurate locations for train \",train_score )\n",
        "train_accuracy,test_accuracy=eval_model(rf)\n",
        "print(\"accuracy for train \",train_accuracy)\n",
        "print(\"accuracy for test \",test_accuracy)\n",
        "save_model_info(end_fit-start_fit,end_pred-end_fit,'rf',test_score,train_score,train_accuracy,test_accuracy,'RandomForest with depth of 20')"
      ]
    },
    {
      "cell_type": "code",
      "execution_count": 29,
      "metadata": {
        "id": "ddZAUY3UIbJ1",
        "colab": {
          "base_uri": "https://localhost:8080/"
        },
        "outputId": "13d3cf21-9c1f-409e-b260-c1214667b453"
      },
      "outputs": [
        {
          "output_type": "stream",
          "name": "stdout",
          "text": [
            "Mean no of accurate locations for test  5.534666666666666\n",
            "Mean no of accurate locations for train  5.524571428571429\n",
            "accuracy for train  0.8606530612244898\n",
            "accuracy for test  0.8620952380952381\n"
          ]
        }
      ],
      "source": [
        "l=LogisticRegression(C=1,max_iter=1000)\n",
        "lr=MultiOutputClassifier(l)\n",
        "start_fit=time()\n",
        "lr.fit(X_train,y_train)\n",
        "end_fit=time()\n",
        "lr_proba=np.stack(lr.predict_proba(X_test), axis=1 )[:,:,1]\n",
        "lr_train_proba=np.stack(lr.predict_proba(X_train), axis=1 )[:,:,1]\n",
        "end_pred=time()\n",
        "predicted_locs=top_7(lr_proba)\n",
        "test_score=my_metric(predicted_locs,y_test)\n",
        "train_score=my_metric(top_7(lr_train_proba),y_train)\n",
        "print(\"Mean no of accurate locations for test \",test_score )\n",
        "print(\"Mean no of accurate locations for train \",train_score )\n",
        "train_accuracy,test_accuracy=eval_model(lr)\n",
        "print(\"accuracy for train \",train_accuracy)\n",
        "print(\"accuracy for test \",test_accuracy)\n",
        "save_model_info(end_fit-start_fit,end_pred-end_fit,'lr',test_score,train_score,train_accuracy,test_accuracy,' A basic logistic regression with C as 10')"
      ]
    },
    {
      "cell_type": "code",
      "execution_count": 46,
      "metadata": {
        "id": "iL5GlCqlLN3G",
        "colab": {
          "base_uri": "https://localhost:8080/"
        },
        "outputId": "4b6fcac1-88a1-4fdd-e076-a5feabab2bc5"
      },
      "outputs": [
        {
          "output_type": "stream",
          "name": "stdout",
          "text": [
            "Mean no of accurate locations for test  5.808\n",
            "Mean no of accurate locations for train  6.809142857142857\n",
            "accuracy for train  0.9764353741496599\n",
            "accuracy for test  0.8869206349206349\n"
          ]
        },
        {
          "output_type": "execute_result",
          "data": {
            "text/plain": [
              "[[18, 2, 11, 19, 16, 13, 20],\n",
              " [18, 15, 2, 13, 16, 11, 20],\n",
              " [1, 7, 20, 14, 11, 9, 16],\n",
              " [6, 5, 17, 13, 11, 15, 9],\n",
              " [2, 18, 9, 20, 17, 11, 15],\n",
              " [1, 20, 10, 18, 17, 15, 16],\n",
              " [4, 2, 5, 9, 3, 16, 20],\n",
              " [14, 6, 2, 17, 16, 9, 20],\n",
              " [1, 17, 7, 11, 14, 20, 16],\n",
              " [5, 2, 0, 17, 6, 20, 9]]"
            ]
          },
          "metadata": {},
          "execution_count": 46
        }
      ],
      "source": [
        "xg=XGBClassifier(n_estimators=650 , max_depth=5, learning_rate=0.08,colsample_bytree=0.25,\n",
        "                  random_state=12,subsample=0.8)\n",
        "xgb=MultiOutputClassifier(xg)\n",
        "start_fit=time()\n",
        "xgb.fit(X_train,y_train)\n",
        "end_fit=time()\n",
        "xgb_proba=np.stack(xgb.predict_proba(X_test), axis=1 )[:,:,1]\n",
        "xgb_train_proba=np.stack(xgb.predict_proba(X_train), axis=1 )[:,:,1]\n",
        "end_pred=time()\n",
        "predicted_locs=top_7(xgb_proba)\n",
        "test_score=my_metric(predicted_locs,y_test)\n",
        "train_score=my_metric(top_7(xgb_train_proba),y_train)\n",
        "print(\"Mean no of accurate locations for test \",test_score )\n",
        "print(\"Mean no of accurate locations for train \",train_score )\n",
        "train_accuracy,test_accuracy=eval_model(xgb)\n",
        "print(\"accuracy for train \",train_accuracy)\n",
        "print(\"accuracy for test \",test_accuracy)\n",
        "save_model_info(end_fit-start_fit,end_pred-end_fit,'xgb',test_score,train_score,train_accuracy,test_accuracy,'A simple xgboost model')\n",
        "predicted_locs[:10]"
      ]
    },
    {
      "cell_type": "code",
      "source": [
        "actual_locs[:10]"
      ],
      "metadata": {
        "colab": {
          "base_uri": "https://localhost:8080/"
        },
        "id": "8DfBeeys191q",
        "outputId": "8e5ff1aa-ebdd-4558-8c07-63745e9260ca"
      },
      "execution_count": 47,
      "outputs": [
        {
          "output_type": "execute_result",
          "data": {
            "text/plain": [
              "[[9, 19, 13, 2, 16, 17, 20],\n",
              " [6, 11, 13, 2, 16, 18, 20],\n",
              " [9, 11, 14, 16, 1, 7, 20],\n",
              " [8, 9, 5, 11, 13, 15, 17],\n",
              " [5, 9, 11, 12, 15, 17, 18],\n",
              " [17, 16, 10, 9, 1, 15, 20],\n",
              " [16, 0, 7, 5, 3, 11, 20],\n",
              " [9, 5, 14, 2, 16, 17, 20],\n",
              " [11, 14, 1, 16, 17, 18, 20],\n",
              " [18, 17, 0, 6, 5, 9, 20]]"
            ]
          },
          "metadata": {},
          "execution_count": 47
        }
      ]
    },
    {
      "cell_type": "code",
      "execution_count": 43,
      "metadata": {
        "id": "oQsFOssPNIiT",
        "colab": {
          "base_uri": "https://localhost:8080/"
        },
        "outputId": "95107005-0011-48c0-fc0c-07c0703a587c"
      },
      "outputs": [
        {
          "output_type": "stream",
          "name": "stdout",
          "text": [
            "Mean no of accurate locations for test  5.918666666666667\n",
            "Mean no of accurate locations for train  6.997714285714285\n",
            "accuracy for train  0.9993741496598639\n",
            "accuracy for test  0.8963809523809524\n"
          ]
        },
        {
          "output_type": "execute_result",
          "data": {
            "text/plain": [
              "[[11, 2, 18, 13, 16, 19, 20],\n",
              " [18, 15, 2, 13, 16, 11, 20],\n",
              " [15, 1, 20, 11, 16, 9, 14],\n",
              " [3, 6, 17, 13, 11, 9, 15],\n",
              " [1, 2, 20, 17, 9, 11, 15],\n",
              " [1, 20, 10, 18, 17, 15, 16],\n",
              " [15, 5, 2, 9, 3, 16, 20],\n",
              " [6, 2, 17, 14, 16, 9, 20],\n",
              " [1, 7, 17, 11, 20, 14, 16],\n",
              " [14, 5, 0, 17, 6, 20, 9]]"
            ]
          },
          "metadata": {},
          "execution_count": 43
        }
      ],
      "source": [
        "ct= CatBoostClassifier(loss_function= 'MultiClass',learning_rate= 0.08,iterations= 600,depth= 6,\n",
        "                        subsample=0.8,bootstrap_type='Bernoulli',colsample_bylevel=0.2,random_seed= 12,verbose= False)\n",
        "cat=MultiOutputClassifier(ct)\n",
        "start_fit=time()\n",
        "cat.fit(X_train,y_train)\n",
        "end_fit=time()\n",
        "cat_proba=np.stack(cat.predict_proba(X_test), axis=1 )[:,:,1]\n",
        "cat_train_proba=np.stack(cat.predict_proba(X_train), axis=1 )[:,:,1]\n",
        "end_pred=time()\n",
        "predicted_locs=top_7(cat_proba)\n",
        "test_score=my_metric(predicted_locs,y_test)\n",
        "train_score=my_metric(top_7(cat_train_proba),y_train)\n",
        "print(\"Mean no of accurate locations for test \",test_score )\n",
        "print(\"Mean no of accurate locations for train \",train_score )\n",
        "train_accuracy,test_accuracy=eval_model(cat)\n",
        "print(\"accuracy for train \",train_accuracy)\n",
        "print(\"accuracy for test \",test_accuracy)\n",
        "save_model_info(end_fit-start_fit,end_pred-end_fit,'cat',test_score,train_score,train_accuracy,test_accuracy,'A catboost model')\n",
        "predicted_locs[:10]"
      ]
    },
    {
      "cell_type": "code",
      "source": [
        "actual_locs[:10]"
      ],
      "metadata": {
        "colab": {
          "base_uri": "https://localhost:8080/"
        },
        "id": "6zCx93Kt0VhU",
        "outputId": "8fefa3fa-078e-4e34-ceaa-4a60ce6e8571"
      },
      "execution_count": 44,
      "outputs": [
        {
          "output_type": "execute_result",
          "data": {
            "text/plain": [
              "[[9, 19, 13, 2, 16, 17, 20],\n",
              " [6, 11, 13, 2, 16, 18, 20],\n",
              " [9, 11, 14, 16, 1, 7, 20],\n",
              " [8, 9, 5, 11, 13, 15, 17],\n",
              " [5, 9, 11, 12, 15, 17, 18],\n",
              " [17, 16, 10, 9, 1, 15, 20],\n",
              " [16, 0, 7, 5, 3, 11, 20],\n",
              " [9, 5, 14, 2, 16, 17, 20],\n",
              " [11, 14, 1, 16, 17, 18, 20],\n",
              " [18, 17, 0, 6, 5, 9, 20]]"
            ]
          },
          "metadata": {},
          "execution_count": 44
        }
      ]
    },
    {
      "cell_type": "code",
      "source": [
        "lv=LVQ(n_codebooks=40,lr=0.2,n_epochs=70)\n",
        "mc=multi_class(lv)\n",
        "start_fit=time()\n",
        "mc.new_fit(X_train,y_train)\n",
        "end_fit=time()\n",
        "lvq_proba=mc.predict_proba(X_test)\n",
        "lvq_train_proba=mc.predict_proba(X_train)\n",
        "end_pred=time()\n",
        "predicted_locs=top_7(lvq_proba)\n",
        "test_score=my_metric(predicted_locs,y_test)\n",
        "train_score=my_metric(top_7(lvq_train_proba),y_train)\n",
        "print(\"Mean no of accurate locations for test \",test_score)\n",
        "print(\"Mean no of accurate locations for train \",train_score)\n",
        "train_accuracy,test_accuracy=eval_model(mc)\n",
        "print(\"accuracy for test \",test_accuracy)\n",
        "print(\"accuracy for train \",train_accuracy)\n",
        "save_model_info(end_fit-start_fit,end_pred-end_fit,'mcLVQ',test_score,train_score,train_accuracy,test_accuracy,'lvq model with multiprocessing')\n",
        "predicted_locs[:10]"
      ],
      "metadata": {
        "colab": {
          "base_uri": "https://localhost:8080/"
        },
        "outputId": "b6b2d1f9-a0ca-440b-c74c-74e420c6b438",
        "id": "30r6AqUN0D48"
      },
      "execution_count": null,
      "outputs": [
        {
          "output_type": "stream",
          "name": "stdout",
          "text": [
            "Mean no of accurate locations for test  5.126666666666667\n",
            "Mean no of accurate locations for train  5.6651428571428575\n",
            "accuracy for test  0.8445079365079365\n",
            "accuracy for train  0.9082721088435374\n"
          ]
        },
        {
          "output_type": "execute_result",
          "data": {
            "text/plain": [
              "[[9, 17, 16, 18, 13, 20, 19],\n",
              " [2, 17, 18, 20, 16, 13, 11],\n",
              " [20, 7, 17, 1, 14, 11, 9],\n",
              " [6, 15, 8, 16, 7, 9, 11],\n",
              " [11, 20, 16, 19, 15, 1, 17],\n",
              " [1, 16, 20, 18, 10, 17, 9],\n",
              " [5, 2, 15, 9, 16, 3, 20],\n",
              " [3, 18, 2, 16, 17, 6, 20],\n",
              " [17, 16, 14, 20, 11, 7, 1],\n",
              " [10, 17, 6, 9, 2, 20, 19]]"
            ]
          },
          "metadata": {},
          "execution_count": 24
        }
      ]
    },
    {
      "cell_type": "code",
      "source": [
        "lv=LVQ(n_codebooks=40,lr=0.2,n_epochs=70)\n",
        "mc=multi_class(lv)\n",
        "start_fit=time()\n",
        "mc.new_fit(X_train,y_train)\n",
        "end_fit=time()\n",
        "lvq_proba=mc.predict_proba(X_test)\n",
        "lvq_train_proba=mc.predict_proba(X_train)\n",
        "end_pred=time()\n",
        "predicted_locs=top_7(lvq_proba)\n",
        "test_score=my_metric(predicted_locs,y_test)\n",
        "train_score=my_metric(top_7(lvq_train_proba),y_train)\n",
        "print(\"Mean no of accurate locations for test \",test_score)\n",
        "print(\"Mean no of accurate locations for train \",train_score)\n",
        "train_accuracy,test_accuracy=eval_model(mc)\n",
        "print(\"accuracy for test \",test_accuracy)\n",
        "print(\"accuracy for train \",train_accuracy)\n",
        "save_model_info(end_fit-start_fit,end_pred-end_fit,'mcLVQ',test_score,train_score,train_accuracy,test_accuracy,'lvq model with multiprocessing')\n",
        "predicted_locs[:10]"
      ],
      "metadata": {
        "colab": {
          "base_uri": "https://localhost:8080/"
        },
        "outputId": "b6b2d1f9-a0ca-440b-c74c-74e420c6b438",
        "id": "jqAp8e0uz-W_"
      },
      "execution_count": null,
      "outputs": [
        {
          "output_type": "stream",
          "name": "stdout",
          "text": [
            "Mean no of accurate locations for test  5.126666666666667\n",
            "Mean no of accurate locations for train  5.6651428571428575\n",
            "accuracy for test  0.8445079365079365\n",
            "accuracy for train  0.9082721088435374\n"
          ]
        },
        {
          "output_type": "execute_result",
          "data": {
            "text/plain": [
              "[[9, 17, 16, 18, 13, 20, 19],\n",
              " [2, 17, 18, 20, 16, 13, 11],\n",
              " [20, 7, 17, 1, 14, 11, 9],\n",
              " [6, 15, 8, 16, 7, 9, 11],\n",
              " [11, 20, 16, 19, 15, 1, 17],\n",
              " [1, 16, 20, 18, 10, 17, 9],\n",
              " [5, 2, 15, 9, 16, 3, 20],\n",
              " [3, 18, 2, 16, 17, 6, 20],\n",
              " [17, 16, 14, 20, 11, 7, 1],\n",
              " [10, 17, 6, 9, 2, 20, 19]]"
            ]
          },
          "metadata": {},
          "execution_count": 24
        }
      ]
    },
    {
      "cell_type": "code",
      "source": [
        "actual_locs[:10]"
      ],
      "metadata": {
        "colab": {
          "base_uri": "https://localhost:8080/"
        },
        "id": "PenBYMUF06Xg",
        "outputId": "7b510cc0-bf0b-4fc3-a72e-5966c3e08ae5"
      },
      "execution_count": 45,
      "outputs": [
        {
          "output_type": "execute_result",
          "data": {
            "text/plain": [
              "[[9, 19, 13, 2, 16, 17, 20],\n",
              " [6, 11, 13, 2, 16, 18, 20],\n",
              " [9, 11, 14, 16, 1, 7, 20],\n",
              " [8, 9, 5, 11, 13, 15, 17],\n",
              " [5, 9, 11, 12, 15, 17, 18],\n",
              " [17, 16, 10, 9, 1, 15, 20],\n",
              " [16, 0, 7, 5, 3, 11, 20],\n",
              " [9, 5, 14, 2, 16, 17, 20],\n",
              " [11, 14, 1, 16, 17, 18, 20],\n",
              " [18, 17, 0, 6, 5, 9, 20]]"
            ]
          },
          "metadata": {},
          "execution_count": 45
        }
      ]
    },
    {
      "cell_type": "code",
      "execution_count": 32,
      "metadata": {
        "id": "NoX5e15vPl-E",
        "colab": {
          "base_uri": "https://localhost:8080/"
        },
        "outputId": "29f15f73-21e0-416a-8817-c1e671d79233"
      },
      "outputs": [
        {
          "output_type": "stream",
          "name": "stdout",
          "text": [
            "Mean no of accurate locations for test  5.906666666666666\n",
            "Mean no of accurate locations for train  6.997714285714285\n",
            "accuracy for train  0.9995918367346939\n",
            "accuracy for test  0.8954285714285715\n"
          ]
        }
      ],
      "source": [
        "vot=VotingClassifier([('xg',xg),('rf',r),('cat',ct)],voting='soft',weights=[0.2,0.6,0.8])\n",
        "vote=MultiOutputClassifier(vot)\n",
        "start_fit=time()\n",
        "vote.fit(X_train,y_train)\n",
        "end_fit=time()\n",
        "vote_proba=np.stack(vote.predict_proba(X_test), axis=1 )[:,:,1]\n",
        "vote_train_proba=np.stack(vote.predict_proba(X_train), axis=1 )[:,:,1]\n",
        "end_pred=time()\n",
        "predicted_locs=top_7(vote_proba)\n",
        "test_score=my_metric(predicted_locs,y_test)\n",
        "train_score=my_metric(top_7(vote_train_proba),y_train)\n",
        "print(\"Mean no of accurate locations for test \",test_score )\n",
        "print(\"Mean no of accurate locations for train \",train_score )\n",
        "train_accuracy,test_accuracy=eval_model(vote)\n",
        "print(\"accuracy for train \",train_accuracy)\n",
        "print(\"accuracy for test \",test_accuracy)\n",
        "save_model_info(end_fit-start_fit,end_pred-end_fit,'vote',test_score,train_score,train_accuracy,test_accuracy,'An ensemble of xgboost,random_forest and catboost')"
      ]
    },
    {
      "cell_type": "code",
      "execution_count": 33,
      "metadata": {
        "id": "dRmgtSCm877c"
      },
      "outputs": [],
      "source": [
        "results_df=pd.DataFrame({'fit_time(secs)':fit_time,'predict_time(secs)':predict_time,'train_acc':train_acc,'test_acc':test_acc,'train_score':train_scores,'test_score':test_scores,'model':models,'description':descr})\n",
        "results_df.drop_duplicates(['model'],keep='last',inplace=True)\n",
        "results_df2=pd.read_csv('/content/drive/MyDrive/resultsnew.csv')\n",
        "results_df=pd.concat([results_df,results_df2])\n",
        "results_df.reset_index(drop=True,inplace=True)"
      ]
    },
    {
      "cell_type": "code",
      "execution_count": 34,
      "metadata": {
        "id": "IoJnjcs7jQWY",
        "colab": {
          "base_uri": "https://localhost:8080/",
          "height": 363
        },
        "outputId": "584ebfa8-82f3-4d1f-d520-507e88c9b149"
      },
      "outputs": [
        {
          "output_type": "execute_result",
          "data": {
            "text/plain": [
              "   fit_time(secs)  predict_time(secs)  train_acc  test_acc  train_score  \\\n",
              "0       81.709807            1.843094   0.908272  0.844508     5.665143   \n",
              "1       55.186260            0.426579   0.908272  0.844508     5.665143   \n",
              "2        0.015092            3.166598   0.818857  0.815810     5.287429   \n",
              "3       18.830309            5.239218   1.000000  0.888254     7.000000   \n",
              "4        0.308197            0.009693   0.860653  0.862095     5.524571   \n",
              "5       14.529471            1.561821   0.976435  0.886921     6.809143   \n",
              "6       23.220212            0.384406   0.999374  0.896381     6.997714   \n",
              "7       56.245652            7.269588   0.999592  0.895429     6.997714   \n",
              "8      145.457107            4.600025   0.794222  0.793605     4.002286   \n",
              "9       45.347118            0.996642   0.893524  0.879365     5.724571   \n",
              "\n",
              "   test_score  model                                        description  \\\n",
              "0    5.126667  lvqmc                        lvq model with 50 codebooks   \n",
              "1    5.126667  mcLVQ                     lvq model with multiprocessing   \n",
              "2    5.244000    knn          KNearestNeighborsClassifier with k as 150   \n",
              "3    5.834667     rf                      RandomForest with depth of 20   \n",
              "4    5.534667     lr           A basic logistic regression with C as 10   \n",
              "5    5.808000    xgb                             A simple xgboost model   \n",
              "6    5.918667    cat                                   A catboost model   \n",
              "7    5.906667   vote  An ensemble of xgboost,random_forest and catboost   \n",
              "8    3.982667    gnn                              Graph Neural Network    \n",
              "9    5.642667    FFN                      An artificial neural network    \n",
              "\n",
              "   Unnamed: 0  \n",
              "0         NaN  \n",
              "1         NaN  \n",
              "2         NaN  \n",
              "3         NaN  \n",
              "4         NaN  \n",
              "5         NaN  \n",
              "6         NaN  \n",
              "7         NaN  \n",
              "8         0.0  \n",
              "9         1.0  "
            ],
            "text/html": [
              "\n",
              "  <div id=\"df-edc8514a-c268-4640-8a74-c59678390eeb\">\n",
              "    <div class=\"colab-df-container\">\n",
              "      <div>\n",
              "<style scoped>\n",
              "    .dataframe tbody tr th:only-of-type {\n",
              "        vertical-align: middle;\n",
              "    }\n",
              "\n",
              "    .dataframe tbody tr th {\n",
              "        vertical-align: top;\n",
              "    }\n",
              "\n",
              "    .dataframe thead th {\n",
              "        text-align: right;\n",
              "    }\n",
              "</style>\n",
              "<table border=\"1\" class=\"dataframe\">\n",
              "  <thead>\n",
              "    <tr style=\"text-align: right;\">\n",
              "      <th></th>\n",
              "      <th>fit_time(secs)</th>\n",
              "      <th>predict_time(secs)</th>\n",
              "      <th>train_acc</th>\n",
              "      <th>test_acc</th>\n",
              "      <th>train_score</th>\n",
              "      <th>test_score</th>\n",
              "      <th>model</th>\n",
              "      <th>description</th>\n",
              "      <th>Unnamed: 0</th>\n",
              "    </tr>\n",
              "  </thead>\n",
              "  <tbody>\n",
              "    <tr>\n",
              "      <th>0</th>\n",
              "      <td>81.709807</td>\n",
              "      <td>1.843094</td>\n",
              "      <td>0.908272</td>\n",
              "      <td>0.844508</td>\n",
              "      <td>5.665143</td>\n",
              "      <td>5.126667</td>\n",
              "      <td>lvqmc</td>\n",
              "      <td>lvq model with 50 codebooks</td>\n",
              "      <td>NaN</td>\n",
              "    </tr>\n",
              "    <tr>\n",
              "      <th>1</th>\n",
              "      <td>55.186260</td>\n",
              "      <td>0.426579</td>\n",
              "      <td>0.908272</td>\n",
              "      <td>0.844508</td>\n",
              "      <td>5.665143</td>\n",
              "      <td>5.126667</td>\n",
              "      <td>mcLVQ</td>\n",
              "      <td>lvq model with multiprocessing</td>\n",
              "      <td>NaN</td>\n",
              "    </tr>\n",
              "    <tr>\n",
              "      <th>2</th>\n",
              "      <td>0.015092</td>\n",
              "      <td>3.166598</td>\n",
              "      <td>0.818857</td>\n",
              "      <td>0.815810</td>\n",
              "      <td>5.287429</td>\n",
              "      <td>5.244000</td>\n",
              "      <td>knn</td>\n",
              "      <td>KNearestNeighborsClassifier with k as 150</td>\n",
              "      <td>NaN</td>\n",
              "    </tr>\n",
              "    <tr>\n",
              "      <th>3</th>\n",
              "      <td>18.830309</td>\n",
              "      <td>5.239218</td>\n",
              "      <td>1.000000</td>\n",
              "      <td>0.888254</td>\n",
              "      <td>7.000000</td>\n",
              "      <td>5.834667</td>\n",
              "      <td>rf</td>\n",
              "      <td>RandomForest with depth of 20</td>\n",
              "      <td>NaN</td>\n",
              "    </tr>\n",
              "    <tr>\n",
              "      <th>4</th>\n",
              "      <td>0.308197</td>\n",
              "      <td>0.009693</td>\n",
              "      <td>0.860653</td>\n",
              "      <td>0.862095</td>\n",
              "      <td>5.524571</td>\n",
              "      <td>5.534667</td>\n",
              "      <td>lr</td>\n",
              "      <td>A basic logistic regression with C as 10</td>\n",
              "      <td>NaN</td>\n",
              "    </tr>\n",
              "    <tr>\n",
              "      <th>5</th>\n",
              "      <td>14.529471</td>\n",
              "      <td>1.561821</td>\n",
              "      <td>0.976435</td>\n",
              "      <td>0.886921</td>\n",
              "      <td>6.809143</td>\n",
              "      <td>5.808000</td>\n",
              "      <td>xgb</td>\n",
              "      <td>A simple xgboost model</td>\n",
              "      <td>NaN</td>\n",
              "    </tr>\n",
              "    <tr>\n",
              "      <th>6</th>\n",
              "      <td>23.220212</td>\n",
              "      <td>0.384406</td>\n",
              "      <td>0.999374</td>\n",
              "      <td>0.896381</td>\n",
              "      <td>6.997714</td>\n",
              "      <td>5.918667</td>\n",
              "      <td>cat</td>\n",
              "      <td>A catboost model</td>\n",
              "      <td>NaN</td>\n",
              "    </tr>\n",
              "    <tr>\n",
              "      <th>7</th>\n",
              "      <td>56.245652</td>\n",
              "      <td>7.269588</td>\n",
              "      <td>0.999592</td>\n",
              "      <td>0.895429</td>\n",
              "      <td>6.997714</td>\n",
              "      <td>5.906667</td>\n",
              "      <td>vote</td>\n",
              "      <td>An ensemble of xgboost,random_forest and catboost</td>\n",
              "      <td>NaN</td>\n",
              "    </tr>\n",
              "    <tr>\n",
              "      <th>8</th>\n",
              "      <td>145.457107</td>\n",
              "      <td>4.600025</td>\n",
              "      <td>0.794222</td>\n",
              "      <td>0.793605</td>\n",
              "      <td>4.002286</td>\n",
              "      <td>3.982667</td>\n",
              "      <td>gnn</td>\n",
              "      <td>Graph Neural Network</td>\n",
              "      <td>0.0</td>\n",
              "    </tr>\n",
              "    <tr>\n",
              "      <th>9</th>\n",
              "      <td>45.347118</td>\n",
              "      <td>0.996642</td>\n",
              "      <td>0.893524</td>\n",
              "      <td>0.879365</td>\n",
              "      <td>5.724571</td>\n",
              "      <td>5.642667</td>\n",
              "      <td>FFN</td>\n",
              "      <td>An artificial neural network</td>\n",
              "      <td>1.0</td>\n",
              "    </tr>\n",
              "  </tbody>\n",
              "</table>\n",
              "</div>\n",
              "      <button class=\"colab-df-convert\" onclick=\"convertToInteractive('df-edc8514a-c268-4640-8a74-c59678390eeb')\"\n",
              "              title=\"Convert this dataframe to an interactive table.\"\n",
              "              style=\"display:none;\">\n",
              "        \n",
              "  <svg xmlns=\"http://www.w3.org/2000/svg\" height=\"24px\"viewBox=\"0 0 24 24\"\n",
              "       width=\"24px\">\n",
              "    <path d=\"M0 0h24v24H0V0z\" fill=\"none\"/>\n",
              "    <path d=\"M18.56 5.44l.94 2.06.94-2.06 2.06-.94-2.06-.94-.94-2.06-.94 2.06-2.06.94zm-11 1L8.5 8.5l.94-2.06 2.06-.94-2.06-.94L8.5 2.5l-.94 2.06-2.06.94zm10 10l.94 2.06.94-2.06 2.06-.94-2.06-.94-.94-2.06-.94 2.06-2.06.94z\"/><path d=\"M17.41 7.96l-1.37-1.37c-.4-.4-.92-.59-1.43-.59-.52 0-1.04.2-1.43.59L10.3 9.45l-7.72 7.72c-.78.78-.78 2.05 0 2.83L4 21.41c.39.39.9.59 1.41.59.51 0 1.02-.2 1.41-.59l7.78-7.78 2.81-2.81c.8-.78.8-2.07 0-2.86zM5.41 20L4 18.59l7.72-7.72 1.47 1.35L5.41 20z\"/>\n",
              "  </svg>\n",
              "      </button>\n",
              "      \n",
              "  <style>\n",
              "    .colab-df-container {\n",
              "      display:flex;\n",
              "      flex-wrap:wrap;\n",
              "      gap: 12px;\n",
              "    }\n",
              "\n",
              "    .colab-df-convert {\n",
              "      background-color: #E8F0FE;\n",
              "      border: none;\n",
              "      border-radius: 50%;\n",
              "      cursor: pointer;\n",
              "      display: none;\n",
              "      fill: #1967D2;\n",
              "      height: 32px;\n",
              "      padding: 0 0 0 0;\n",
              "      width: 32px;\n",
              "    }\n",
              "\n",
              "    .colab-df-convert:hover {\n",
              "      background-color: #E2EBFA;\n",
              "      box-shadow: 0px 1px 2px rgba(60, 64, 67, 0.3), 0px 1px 3px 1px rgba(60, 64, 67, 0.15);\n",
              "      fill: #174EA6;\n",
              "    }\n",
              "\n",
              "    [theme=dark] .colab-df-convert {\n",
              "      background-color: #3B4455;\n",
              "      fill: #D2E3FC;\n",
              "    }\n",
              "\n",
              "    [theme=dark] .colab-df-convert:hover {\n",
              "      background-color: #434B5C;\n",
              "      box-shadow: 0px 1px 3px 1px rgba(0, 0, 0, 0.15);\n",
              "      filter: drop-shadow(0px 1px 2px rgba(0, 0, 0, 0.3));\n",
              "      fill: #FFFFFF;\n",
              "    }\n",
              "  </style>\n",
              "\n",
              "      <script>\n",
              "        const buttonEl =\n",
              "          document.querySelector('#df-edc8514a-c268-4640-8a74-c59678390eeb button.colab-df-convert');\n",
              "        buttonEl.style.display =\n",
              "          google.colab.kernel.accessAllowed ? 'block' : 'none';\n",
              "\n",
              "        async function convertToInteractive(key) {\n",
              "          const element = document.querySelector('#df-edc8514a-c268-4640-8a74-c59678390eeb');\n",
              "          const dataTable =\n",
              "            await google.colab.kernel.invokeFunction('convertToInteractive',\n",
              "                                                     [key], {});\n",
              "          if (!dataTable) return;\n",
              "\n",
              "          const docLinkHtml = 'Like what you see? Visit the ' +\n",
              "            '<a target=\"_blank\" href=https://colab.research.google.com/notebooks/data_table.ipynb>data table notebook</a>'\n",
              "            + ' to learn more about interactive tables.';\n",
              "          element.innerHTML = '';\n",
              "          dataTable['output_type'] = 'display_data';\n",
              "          await google.colab.output.renderOutput(dataTable, element);\n",
              "          const docLink = document.createElement('div');\n",
              "          docLink.innerHTML = docLinkHtml;\n",
              "          element.appendChild(docLink);\n",
              "        }\n",
              "      </script>\n",
              "    </div>\n",
              "  </div>\n",
              "  "
            ]
          },
          "metadata": {},
          "execution_count": 34
        }
      ],
      "source": [
        "results_df"
      ]
    },
    {
      "cell_type": "code",
      "execution_count": 35,
      "metadata": {
        "id": "ajHumeKzjSDD",
        "colab": {
          "base_uri": "https://localhost:8080/",
          "height": 295
        },
        "outputId": "e44a39ed-04d7-4bcc-c949-f392e7f87bfb"
      },
      "outputs": [
        {
          "output_type": "display_data",
          "data": {
            "text/plain": [
              "<Figure size 432x288 with 1 Axes>"
            ],
            "image/png": "[encoded data removed]"
          },
          "metadata": {
            "needs_background": "light"
          }
        }
      ],
      "source": [
        "sns.barplot(data=results_df,x='model',y='fit_time(secs)')\n",
        "plt.title('A plot showing the fitt_time for each model')\n",
        "plt.show()"
      ]
    },
    {
      "cell_type": "code",
      "execution_count": 36,
      "metadata": {
        "id": "XS26qpJdc6Su",
        "colab": {
          "base_uri": "https://localhost:8080/",
          "height": 295
        },
        "outputId": "a9f1598e-e40e-4a39-9414-962bd4b448ad"
      },
      "outputs": [
        {
          "output_type": "display_data",
          "data": {
            "text/plain": [
              "<Figure size 432x288 with 1 Axes>"
            ],
            "image/png": "[encoded data removed]"
          },
          "metadata": {
            "needs_background": "light"
          }
        }
      ],
      "source": [
        "sns.barplot(data=results_df,x='model',y='predict_time(secs)')\n",
        "plt.title('A plot showing the prediction_time for each model')\n",
        "plt.show()"
      ]
    },
    {
      "cell_type": "code",
      "execution_count": 37,
      "metadata": {
        "id": "WIlkuE7teIul",
        "colab": {
          "base_uri": "https://localhost:8080/",
          "height": 295
        },
        "outputId": "bff69a7c-705b-439f-9543-9408d467c59d"
      },
      "outputs": [
        {
          "output_type": "display_data",
          "data": {
            "text/plain": [
              "<Figure size 432x288 with 1 Axes>"
            ],
            "image/png": "[encoded data removed]"
          },
          "metadata": {
            "needs_background": "light"
          }
        }
      ],
      "source": [
        "sns.barplot(data=results_df,x='model',y='test_acc')\n",
        "plt.title('A plot showing the test_accuracy for each model')\n",
        "plt.show()"
      ]
    },
    {
      "cell_type": "code",
      "execution_count": 38,
      "metadata": {
        "id": "41e99en-ewry",
        "colab": {
          "base_uri": "https://localhost:8080/",
          "height": 295
        },
        "outputId": "5a8876de-59b7-4c8b-a29a-7e8daaea554e"
      },
      "outputs": [
        {
          "output_type": "display_data",
          "data": {
            "text/plain": [
              "<Figure size 432x288 with 1 Axes>"
            ],
            "image/png": "[encoded data removed]"
          },
          "metadata": {
            "needs_background": "light"
          }
        }
      ],
      "source": [
        "sns.barplot(data=results_df,x='model',y='train_acc',palette = \"Blues\")\n",
        "plt.title('A plot showing the train_accuracy for each model')\n",
        "plt.show()"
      ]
    },
    {
      "cell_type": "code",
      "execution_count": 39,
      "metadata": {
        "id": "5CniTEyBoCEZ",
        "colab": {
          "base_uri": "https://localhost:8080/",
          "height": 537
        },
        "outputId": "617f13b6-2db4-4b9e-aa43-30cf31ebb573"
      },
      "outputs": [
        {
          "output_type": "display_data",
          "data": {
            "text/plain": [
              "<Figure size 864x576 with 1 Axes>"
            ],
            "image/png": "[encoded data removed]"
          },
          "metadata": {
            "needs_background": "light"
          }
        }
      ],
      "source": [
        "results_df.plot(y=['train_acc','test_acc'],x='model',kind='bar', stacked=False, color=['red', 'skyblue'],figsize=(12,8))\n",
        "plt.title('A plot showing the train and test accuracy for each model')\n",
        "plt.show()"
      ]
    },
    {
      "cell_type": "code",
      "source": [
        "results_df.plot(y=['train_score','test_score'],x='model',kind='bar', stacked=False, color=['red', 'skyblue'],figsize=(12,8))\n",
        "plt.title('A plot showing the train and test score for each model')\n",
        "plt.show()"
      ],
      "metadata": {
        "id": "1evN-ATyM56h",
        "colab": {
          "base_uri": "https://localhost:8080/",
          "height": 537
        },
        "outputId": "fc6295cb-b579-4c56-e569-0fd0f6b37db8"
      },
      "execution_count": 40,
      "outputs": [
        {
          "output_type": "display_data",
          "data": {
            "text/plain": [
              "<Figure size 864x576 with 1 Axes>"
            ],
            "image/png": "[encoded data removed]"
          },
          "metadata": {
            "needs_background": "light"
          }
        }
      ]
    },
    {
      "cell_type": "code",
      "execution_count": 41,
      "metadata": {
        "id": "XLEpKc1Wfzw7",
        "colab": {
          "base_uri": "https://localhost:8080/",
          "height": 537
        },
        "outputId": "37cffe73-4a74-40f8-a555-acaa6794afb2"
      },
      "outputs": [
        {
          "output_type": "display_data",
          "data": {
            "text/plain": [
              "<Figure size 864x576 with 1 Axes>"
            ],
            "image/png": "[encoded data removed]"
          },
          "metadata": {
            "needs_background": "light"
          }
        }
      ],
      "source": [
        "results_df.plot(y=['fit_time(secs)','predict_time(secs)'],x='model',kind='bar', stacked=True, color=['red', 'skyblue'],figsize=(12,8))\n",
        "plt.title('A plot showing the prediction and fit time of each model')\n",
        "plt.show()"
      ]
    },
    {
      "cell_type": "code",
      "source": [],
      "metadata": {
        "id": "m-dNUb_LRhq8"
      },
      "execution_count": 41,
      "outputs": []
    }
  ],
  "metadata": {
    "colab": {
      "provenance": []
    },
    "kernelspec": {
      "display_name": "Python 3",
      "name": "python3"
    },
    "language_info": {
      "name": "python"
    },
    "gpuClass": "standard",
    "accelerator": "GPU"
  },
  "nbformat": 4,
  "nbformat_minor": 0
}