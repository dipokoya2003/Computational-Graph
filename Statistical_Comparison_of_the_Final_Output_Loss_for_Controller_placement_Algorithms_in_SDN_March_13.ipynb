{
  "nbformat": 4,
  "nbformat_minor": 0,
  "metadata": {
    "colab": {
      "provenance": []
    },
    "kernelspec": {
      "name": "python3",
      "display_name": "Python 3"
    },
    "language_info": {
      "name": "python"
    }
  },
  "cells": [
    {
      "cell_type": "markdown",
      "source": [
        "### **One-Way ANOVA TEST**\n",
        "\n",
        "\n",
        "*The aim of this analysis is to statistically know if the proposed controller placementgorithm truely has a significant low output loss when it is compared with the reviewed Mopso, NSGA-II and NSGA-III algorithms. The importance of this analysi is to help to identify the most recommended controller placement alorithm with the least significant output loss in the SDN.* \n",
        "\n",
        "This link https://www.reneshbedre.com/blog/anova.html?utm_content=cmp-true explains more on the ANOVA test method.\n"
      ],
      "metadata": {
        "id": "9CQtEkO3i6hz"
      }
    },
    {
      "cell_type": "code",
      "source": [
        "# we will use bioinfokit (v1.0.3 or later) for performing tukey HSD and some other tests\n",
        "# check documentation here https://github.com/reneshbedre/bioinfokit\n",
        "!pip install bioinfokit"
      ],
      "metadata": {
        "id": "WYOo05UpPdcv"
      },
      "execution_count": null,
      "outputs": []
    },
    {
      "cell_type": "code",
      "source": [
        "# Conduct random sampling\n",
        "import pandas as pd\n",
        "import numpy as np\n",
        "\n",
        "input_value = input(\"Enter 1 to conduct sampling or 0 to use the documented 11 sample size dataset\")\n",
        "if (int(input_value) == 1):\n",
        "  #sample_size_input = input(\"Enter any value greater than 9:\")\n",
        "  sample_size_input = input(\"\\n\\n Enter 1 for sample size calculation at 95% Confidence Level \\n OR \\n enter your desired sample size that is >9:\")\n",
        "  if (int(sample_size_input) >= 10):  \n",
        "\n",
        "      # Set the seed value for reproducibility\n",
        "      np.random.seed(21)\n",
        "\n",
        "      # load data file\n",
        "      #df = pd.read_excel(\"final output loss.xlsx\")\n",
        "      df=pd.read_excel('final output loss.xlsx')\n",
        "\n",
        "      #Sample the data:\n",
        "      #Note: I decided not to use (sample = df.sample(n=sample_size, random_state=123, replace=False)) code \n",
        "      #becuase the independent sampling of each data column will reduce the sampling biasness.\n",
        "      sample_size = int(sample_size_input)\n",
        "      proposed  = np.random.choice(df['proposed'], sample_size, replace=False)\n",
        "      mopso     = np.random.choice(df['mopso'], sample_size, replace=False)\n",
        "      nsga2     = np.random.choice(df['nsga2'], sample_size, replace=False)\n",
        "      nsga3     = np.random.choice(df['nsga3'], sample_size, replace=False)\n",
        "\n",
        "      # Combine the vectors back into a DataFrame\n",
        "      df = pd.DataFrame({'proposed': proposed, 'mopso': mopso, 'nsga2': nsga2, 'nsga3': nsga3})\n",
        "\n",
        "      #write the new data to textfile and save it\n",
        "      file_path = 'final output loss.csv'\n",
        "\n",
        "      with open(file_path, 'w') as file:\n",
        "          file.write(df['proposed'].to_string(index=False))\n",
        "        \n",
        "      # Print a confirmation message\n",
        "      print(f\"DataFrame written to file: {file_path}\")\n",
        "      print(df.tail(5))\n",
        "\n",
        "  elif (int(sample_size_input) == 1):\n",
        "      # Set the seed value for reproducibility\n",
        "      seed1 = input(\"\\n\\n For reproducibility enter the seed number else 21 will be used instead: \")\n",
        "\n",
        "      if (int(seed1) >= 0):\n",
        "        seed_value = int(seed1)\n",
        "      else:\n",
        "        seed_value = 21  \n",
        "\n",
        "      np.random.seed(seed_value)\n",
        "\n",
        "      # load data file\n",
        "      #df = pd.read_excel(\"final output loss.xlsx\")\n",
        "      df=pd.read_excel('final output loss.xlsx')\n",
        "\n",
        "      ## calculate the sample size for each of the 4 algorithms\n",
        "\n",
        "      #Below is the references for this sample size calculator\n",
        "      #\"Sample Size Calculator\" by Creative Research Systems: https://www.surveysystem.com/sscalc.htm\n",
        "      #\"Sample Size Calculator\" by SurveyMonkey: https://www.surveymonkey.com/mp/sample-size-calculator/\n",
        "      #\"Sample Size Calculator\" by Raosoft: https://www.raosoft.com/samplesize.html\n",
        "      #\"Sample Size Calculator\" by Social Science Statistics: https://www.socscistatistics.com/tests/samplesizecalculator/Default.aspx\n",
        "      #\"Sample Size Calculator\" by National Institute of Standards and Technology: https://www.itl.nist.gov/div898/handbook/prc/section2/prc222.htm\n",
        "  \n",
        "      import math\n",
        "      population_size = len(df)\n",
        "      margin_of_error \t= \t0.05    #5% margin_of_error. This implies and 95% confidence level (1 - 5%)\n",
        "      z                 =   1.96\t\t#Z-score is obtained based on the confidence level\n",
        "              \n",
        "      # Calculate the minimum sample size\n",
        "      sample_size = (z**2 * 0.25 * population_size) / ((margin_of_error**2) * (population_size - 1) + (z**2 * 0.25))\n",
        "      sample_size = math.ceil(sample_size)\n",
        "\n",
        "      print(\"\\n\\n Sample size per group: \", sample_size, \" and the population size is :\", population_size)\n",
        "\n",
        "      print(\"\\n\\n The Seed value is: \", seed_value)\n",
        "\n",
        "      #Sample the data:\n",
        "      #Note: I decided not to use (sample = df.sample(n=sample_size, random_state=123, replace=False)) code \n",
        "      #becuase the independent sampling of each data column will reduce the sampling biasness.\n",
        "      proposed  = np.random.choice(df['proposed'], sample_size, replace=False)\n",
        "      mopso     = np.random.choice(df['mopso'], sample_size, replace=False)\n",
        "      nsga2     = np.random.choice(df['nsga2'], sample_size, replace=False)\n",
        "      nsga3     = np.random.choice(df['nsga3'], sample_size, replace=False)\n",
        "      \n",
        "      # Combine the vectors back into a DataFrame\n",
        "      df = pd.DataFrame({'proposed': proposed, 'mopso': mopso, 'nsga2': nsga2, 'nsga3': nsga3})\n",
        "\n",
        "      #write the new data to textfile and save it\n",
        "      file_path = 'final output loss.csv'\n",
        "\n",
        "      with open(file_path, 'w') as file:\n",
        "          file.write(df['proposed'].to_string(index=False))\n",
        "        \n",
        "      # Print a confirmation message\n",
        "      print(f\"\\n\\n DataFrame written to file: {file_path}\")\n",
        "      print(df.tail(5))\n",
        "  else:\n",
        "      print(\"You entered the wrong value. The process will end now. Thank you.\")\n",
        "elif (int(input_value) == 0):\n",
        "  #df = pd.read_csv(\"final output loss.txt\", sep=\"\\t\")\n",
        "  df=pd.read_csv(\"final output loss.txt\", sep=\"\\t\")\n",
        "  print(\"The built-in data of sample size 11 had been stored in the memory now.\")\n",
        "  print(df)\n",
        "else:\n",
        "  #The process ends\n",
        "  print(\"You entered the wrong ressponse. I am sorry that the process will be abordted now. \\n Kindly run the programme again. Thank you\")"
      ],
      "metadata": {
        "id": "3tVZqy2pkwz9",
        "colab": {
          "base_uri": "https://localhost:8080/"
        },
        "outputId": "d62fe4ca-5a4e-4d64-e668-82ca66175e87"
      },
      "execution_count": null,
      "outputs": [
        {
          "output_type": "stream",
          "name": "stdout",
          "text": [
            "Enter 1 to conduct sampling or 0 to use the documented 11 sample size dataset1\n",
            "\n",
            "\n",
            " Enter 1 for sample size calculation at 95% Confidence Level \n",
            " OR \n",
            " enter your desired sample size that is >9:1\n",
            "\n",
            "\n",
            " For reproducibility enter the seed number else 21 will be used instead: 410\n",
            "\n",
            "\n",
            " Sample size per group:  209  and the population size is : 455\n",
            "\n",
            "\n",
            " The Seed value is:  410\n",
            "\n",
            "\n",
            " DataFrame written to file: final output loss.csv\n",
            "       proposed        mopso        nsga2        nsga3\n",
            "204  818.050222  1438.347339  1322.217006  1326.094859\n",
            "205  758.452690  1492.154173   806.555049  1275.039106\n",
            "206  999.225910  1438.179971  1361.737422   884.421999\n",
            "207  716.596065  1540.748289  1443.265407   773.188143\n",
            "208  841.837358  1492.154173  1365.462906  1404.441950\n"
          ]
        }
      ]
    },
    {
      "cell_type": "markdown",
      "source": [
        "# **Data Importation**\n",
        "\n",
        "*The network final output loss data for this analysis, with four columns, is importated below.*"
      ],
      "metadata": {
        "id": "A9eUYZ2rljDw"
      }
    },
    {
      "cell_type": "code",
      "source": [
        "# load data file\n",
        "#\n",
        "\n",
        "# reshape the d dataframe suitable for statsmodels package \n",
        "df_melt = pd.melt(df.reset_index(), id_vars=['index'], value_vars=['proposed', 'mopso', 'nsga2', 'nsga3'])\n",
        "\n",
        "#print(df_melt)\n",
        "\n",
        "# replace column names\n",
        "df_melt.columns = ['index', 'treatments', 'value']\n",
        "\n",
        "#print(df['proposed'])"
      ],
      "metadata": {
        "id": "ZPMpcDMQjkmB"
      },
      "execution_count": null,
      "outputs": []
    },
    {
      "cell_type": "markdown",
      "source": [
        "\n",
        "\n",
        "---\n",
        "## **The four controllers placement algorithms means**\n",
        "\n",
        "*The network final output loss means for the four controllers placement algorithms (the Proposed algorithms, MOPSO, NSGA-II and NSGA-III algorithms) in the appropriate placement of controller in the SDN are:*"
      ],
      "metadata": {
        "id": "I3fIMMlspa4k"
      }
    },
    {
      "cell_type": "code",
      "source": [
        "print(\"The network final output loss means of the algorithms are: \\n\",df.mean())\n",
        "print(\"\\n ============================ \\n\")\n",
        "print(\"The network final output loss variances of the algorithms are: \\n\",df.var())"
      ],
      "metadata": {
        "id": "97AqjcTiosjZ",
        "colab": {
          "base_uri": "https://localhost:8080/"
        },
        "outputId": "91e677b9-0510-42c8-afea-5b5963dbf03f"
      },
      "execution_count": null,
      "outputs": [
        {
          "output_type": "stream",
          "name": "stdout",
          "text": [
            "The network final output loss means of the algorithms are: \n",
            " proposed     936.018623\n",
            "mopso       1459.347972\n",
            "nsga2       1221.599093\n",
            "nsga3       1142.605371\n",
            "dtype: float64\n",
            "\n",
            " ============================ \n",
            "\n",
            "The network final output loss variances of the algorithms are: \n",
            " proposed    25139.335528\n",
            "mopso        3067.111557\n",
            "nsga2       32561.492155\n",
            "nsga3       33732.179519\n",
            "dtype: float64\n"
          ]
        }
      ]
    },
    {
      "cell_type": "markdown",
      "source": [
        "# **Interpretation:**\n",
        "\n",
        "This means that the proposed algorithm has the network final output loss means of 943.540408 while the MOPSO algorithms has the highest network final output loss means of 1459.861607. This study is interested to know if there is significant difference among these fours controller based on the network final output loss data. *"
      ],
      "metadata": {
        "id": "fVsz8Sj8qAHt"
      }
    },
    {
      "cell_type": "markdown",
      "source": [
        "\n",
        "---\n",
        "\n",
        "\n",
        "# **Box plot Presentation:**\n",
        "\n",
        "*The Box plot is plotted below.*"
      ],
      "metadata": {
        "id": "XSRpnyPRjqAo"
      }
    },
    {
      "cell_type": "code",
      "source": [
        "# generate a boxplot to see the data distribution by treatments. Using boxplot, we can \n",
        "# easily detect the differences between different treatments\n",
        "import matplotlib.pyplot as plt\n",
        "import seaborn as sns\n",
        "ax = sns.boxplot(x='treatments', y='value', data=df_melt, color='#99c2a2')\n",
        "ax = sns.swarmplot(x=\"treatments\", y=\"value\", data=df_melt, color='#7d0013')\n",
        "plt.show()\n"
      ],
      "metadata": {
        "id": "EkSRMB7vBvOg",
        "colab": {
          "base_uri": "https://localhost:8080/",
          "height": 444
        },
        "outputId": "5ce7f7bf-beeb-4cfd-956a-75f9352c366d"
      },
      "execution_count": null,
      "outputs": [
        {
          "output_type": "stream",
          "name": "stderr",
          "text": [
            "/usr/local/lib/python3.9/dist-packages/seaborn/categorical.py:1296: UserWarning: 28.2% of the points cannot be placed; you may want to decrease the size of the markers or use stripplot.\n",
            "  warnings.warn(msg, UserWarning)\n",
            "/usr/local/lib/python3.9/dist-packages/seaborn/categorical.py:1296: UserWarning: 69.9% of the points cannot be placed; you may want to decrease the size of the markers or use stripplot.\n",
            "  warnings.warn(msg, UserWarning)\n",
            "/usr/local/lib/python3.9/dist-packages/seaborn/categorical.py:1296: UserWarning: 34.9% of the points cannot be placed; you may want to decrease the size of the markers or use stripplot.\n",
            "  warnings.warn(msg, UserWarning)\n",
            "/usr/local/lib/python3.9/dist-packages/seaborn/categorical.py:1296: UserWarning: 13.4% of the points cannot be placed; you may want to decrease the size of the markers or use stripplot.\n",
            "  warnings.warn(msg, UserWarning)\n"
          ]
        },
        {
          "output_type": "display_data",
          "data": {
            "text/plain": [
              "<Figure size 432x288 with 1 Axes>"
            ],
            "image/png": "[encoded data removed]"
          },
          "metadata": {
            "needs_background": "light"
          }
        }
      ]
    },
    {
      "cell_type": "markdown",
      "source": [
        "**Interpretation of the Box plot for the four controllers:**\n",
        "\n",
        "Each box represents each controller. There seems to be complications on thise plot. I hope to inestigate further and later.\n",
        "\n",
        "---\n",
        "\n"
      ],
      "metadata": {
        "id": "iG2NruoUj4Bq"
      }
    },
    {
      "cell_type": "markdown",
      "source": [
        "# **One Way ANOVA Test**\n",
        "\n",
        "*Below id the one-way anova test analysis and results.*\n",
        "\n",
        "H0: There are no significant differences among final network loss mean produced by the four algorithms at 5% significant level.\n",
        "\n",
        "H1: At least, one of the algorithms has final network loss mean that is different from others at 5% significant level."
      ],
      "metadata": {
        "id": "cz4UEM8zkRxP"
      }
    },
    {
      "cell_type": "code",
      "source": [
        "import scipy.stats as stats\n",
        "# stats f_oneway functions takes the groups as input and returns ANOVA F and p value\n",
        "fvalue, pvalue = stats.f_oneway(df['proposed'], df['mopso'], df['nsga2'], df['nsga3'])\n",
        "print(fvalue, pvalue)\n",
        "\n",
        "print()\n",
        "if (pvalue < 0.05):\n",
        "  print(\" Decision: Reject the Null hypothesis \\n At least, one of the algorithms has final network loss mean that is different from others at 5% significant level.\")\n",
        "else:\n",
        "  print(\" Decision: Accept the Null hypothesis \\n There are no significant differences among final network loss mean produced by the four algorithms at 5% significant level.\")\n",
        "\n",
        "print()\n",
        "print(\"==================================================================\")\n",
        "\n",
        "# get ANOVA table as R like output\n",
        "import statsmodels.api as sm\n",
        "from statsmodels.formula.api import ols\n",
        "\n",
        "# Ordinary Least Squares (OLS) model\n",
        "model = ols('value ~ C(treatments)', data=df_melt).fit()\n",
        "anova_table = sm.stats.anova_lm(model, typ=2)\n",
        "anova_table\n",
        "\n",
        "print()\n",
        "print(\"==================================================================\")\n",
        "\n",
        "# ANOVA table using bioinfokit v1.0.3 or later (it uses wrapper script for anova_lm)\n",
        "from bioinfokit.analys import stat\n",
        "res = stat()\n",
        "res.anova_stat(df=df_melt, res_var='value', anova_model='value ~ C(treatments)')\n",
        "res.anova_summary"
      ],
      "metadata": {
        "id": "EtQtcWmcKq2V",
        "colab": {
          "base_uri": "https://localhost:8080/",
          "height": 257
        },
        "outputId": "d4066dad-bc0e-4d74-f274-32a72c154ebf"
      },
      "execution_count": null,
      "outputs": [
        {
          "output_type": "stream",
          "name": "stdout",
          "text": [
            "413.7223966048692 2.0079977690725275e-164\n",
            "\n",
            " Decision: Reject the Null hypothesis \n",
            " At least, one of the algorithms has final network loss mean that is different from others at 5% significant level.\n",
            "\n",
            "==================================================================\n",
            "\n",
            "==================================================================\n"
          ]
        },
        {
          "output_type": "execute_result",
          "data": {
            "text/plain": [
              "                  df        sum_sq       mean_sq           F         PR(>F)\n",
              "C(treatments)    3.0  2.932261e+07  9.774204e+06  413.722397  2.007998e-164\n",
              "Residual       832.0  1.965602e+07  2.362503e+04         NaN            NaN"
            ],
            "text/html": [
              "\n",
              "  <div id=\"df-19c0f44d-20bc-49b6-8f11-02ff77ac80c7\">\n",
              "    <div class=\"colab-df-container\">\n",
              "      <div>\n",
              "<style scoped>\n",
              "    .dataframe tbody tr th:only-of-type {\n",
              "        vertical-align: middle;\n",
              "    }\n",
              "\n",
              "    .dataframe tbody tr th {\n",
              "        vertical-align: top;\n",
              "    }\n",
              "\n",
              "    .dataframe thead th {\n",
              "        text-align: right;\n",
              "    }\n",
              "</style>\n",
              "<table border=\"1\" class=\"dataframe\">\n",
              "  <thead>\n",
              "    <tr style=\"text-align: right;\">\n",
              "      <th></th>\n",
              "      <th>df</th>\n",
              "      <th>sum_sq</th>\n",
              "      <th>mean_sq</th>\n",
              "      <th>F</th>\n",
              "      <th>PR(&gt;F)</th>\n",
              "    </tr>\n",
              "  </thead>\n",
              "  <tbody>\n",
              "    <tr>\n",
              "      <th>C(treatments)</th>\n",
              "      <td>3.0</td>\n",
              "      <td>2.932261e+07</td>\n",
              "      <td>9.774204e+06</td>\n",
              "      <td>413.722397</td>\n",
              "      <td>2.007998e-164</td>\n",
              "    </tr>\n",
              "    <tr>\n",
              "      <th>Residual</th>\n",
              "      <td>832.0</td>\n",
              "      <td>1.965602e+07</td>\n",
              "      <td>2.362503e+04</td>\n",
              "      <td>NaN</td>\n",
              "      <td>NaN</td>\n",
              "    </tr>\n",
              "  </tbody>\n",
              "</table>\n",
              "</div>\n",
              "      <button class=\"colab-df-convert\" onclick=\"convertToInteractive('df-19c0f44d-20bc-49b6-8f11-02ff77ac80c7')\"\n",
              "              title=\"Convert this dataframe to an interactive table.\"\n",
              "              style=\"display:none;\">\n",
              "        \n",
              "  <svg xmlns=\"http://www.w3.org/2000/svg\" height=\"24px\"viewBox=\"0 0 24 24\"\n",
              "       width=\"24px\">\n",
              "    <path d=\"M0 0h24v24H0V0z\" fill=\"none\"/>\n",
              "    <path d=\"M18.56 5.44l.94 2.06.94-2.06 2.06-.94-2.06-.94-.94-2.06-.94 2.06-2.06.94zm-11 1L8.5 8.5l.94-2.06 2.06-.94-2.06-.94L8.5 2.5l-.94 2.06-2.06.94zm10 10l.94 2.06.94-2.06 2.06-.94-2.06-.94-.94-2.06-.94 2.06-2.06.94z\"/><path d=\"M17.41 7.96l-1.37-1.37c-.4-.4-.92-.59-1.43-.59-.52 0-1.04.2-1.43.59L10.3 9.45l-7.72 7.72c-.78.78-.78 2.05 0 2.83L4 21.41c.39.39.9.59 1.41.59.51 0 1.02-.2 1.41-.59l7.78-7.78 2.81-2.81c.8-.78.8-2.07 0-2.86zM5.41 20L4 18.59l7.72-7.72 1.47 1.35L5.41 20z\"/>\n",
              "  </svg>\n",
              "      </button>\n",
              "      \n",
              "  <style>\n",
              "    .colab-df-container {\n",
              "      display:flex;\n",
              "      flex-wrap:wrap;\n",
              "      gap: 12px;\n",
              "    }\n",
              "\n",
              "    .colab-df-convert {\n",
              "      background-color: #E8F0FE;\n",
              "      border: none;\n",
              "      border-radius: 50%;\n",
              "      cursor: pointer;\n",
              "      display: none;\n",
              "      fill: #1967D2;\n",
              "      height: 32px;\n",
              "      padding: 0 0 0 0;\n",
              "      width: 32px;\n",
              "    }\n",
              "\n",
              "    .colab-df-convert:hover {\n",
              "      background-color: #E2EBFA;\n",
              "      box-shadow: 0px 1px 2px rgba(60, 64, 67, 0.3), 0px 1px 3px 1px rgba(60, 64, 67, 0.15);\n",
              "      fill: #174EA6;\n",
              "    }\n",
              "\n",
              "    [theme=dark] .colab-df-convert {\n",
              "      background-color: #3B4455;\n",
              "      fill: #D2E3FC;\n",
              "    }\n",
              "\n",
              "    [theme=dark] .colab-df-convert:hover {\n",
              "      background-color: #434B5C;\n",
              "      box-shadow: 0px 1px 3px 1px rgba(0, 0, 0, 0.15);\n",
              "      filter: drop-shadow(0px 1px 2px rgba(0, 0, 0, 0.3));\n",
              "      fill: #FFFFFF;\n",
              "    }\n",
              "  </style>\n",
              "\n",
              "      <script>\n",
              "        const buttonEl =\n",
              "          document.querySelector('#df-19c0f44d-20bc-49b6-8f11-02ff77ac80c7 button.colab-df-convert');\n",
              "        buttonEl.style.display =\n",
              "          google.colab.kernel.accessAllowed ? 'block' : 'none';\n",
              "\n",
              "        async function convertToInteractive(key) {\n",
              "          const element = document.querySelector('#df-19c0f44d-20bc-49b6-8f11-02ff77ac80c7');\n",
              "          const dataTable =\n",
              "            await google.colab.kernel.invokeFunction('convertToInteractive',\n",
              "                                                     [key], {});\n",
              "          if (!dataTable) return;\n",
              "\n",
              "          const docLinkHtml = 'Like what you see? Visit the ' +\n",
              "            '<a target=\"_blank\" href=https://colab.research.google.com/notebooks/data_table.ipynb>data table notebook</a>'\n",
              "            + ' to learn more about interactive tables.';\n",
              "          element.innerHTML = '';\n",
              "          dataTable['output_type'] = 'display_data';\n",
              "          await google.colab.output.renderOutput(dataTable, element);\n",
              "          const docLink = document.createElement('div');\n",
              "          docLink.innerHTML = docLinkHtml;\n",
              "          element.appendChild(docLink);\n",
              "        }\n",
              "      </script>\n",
              "    </div>\n",
              "  </div>\n",
              "  "
            ]
          },
          "metadata": {},
          "execution_count": 270
        }
      ]
    },
    {
      "cell_type": "markdown",
      "source": [
        "**ANOVA TEst Result Interpretation**\n",
        "*The p value obtained from ANOVA analysis is significant (p < 0.05), and therefore, we conclude that there are significant differences among treatments.*\n",
        "\n",
        "\n",
        "---\n",
        "\n"
      ],
      "metadata": {
        "id": "m8La8yBfURz4"
      }
    },
    {
      "cell_type": "markdown",
      "source": [
        "# **Post HOC TesT: Tukey's HSD test**\n",
        "\n",
        "*Below is Post- HOC Test using Tukey's HSD test.*"
      ],
      "metadata": {
        "id": "Ogfnu7UWkw_T"
      }
    },
    {
      "cell_type": "code",
      "source": [
        "from bioinfokit.analys import stat\n",
        "# perform multiple pairwise comparison (Tukey's HSD)\n",
        "# unequal sample size data, tukey_hsd uses Tukey-Kramer test\n",
        "res = stat()\n",
        "res.tukey_hsd(df=df_melt, res_var='value', xfac_var='treatments', anova_model='value ~ C(treatments)')\n",
        "res.tukey_summary"
      ],
      "metadata": {
        "id": "K4dMNzyRR-g_",
        "colab": {
          "base_uri": "https://localhost:8080/",
          "height": 294
        },
        "outputId": "2913a411-9801-46ee-f1c7-57f76eb05e80"
      },
      "execution_count": null,
      "outputs": [
        {
          "output_type": "stream",
          "name": "stderr",
          "text": [
            "/usr/local/lib/python3.9/dist-packages/bioinfokit/analys.py:402: FutureWarning: Dropping of nuisance columns in DataFrame reductions (with 'numeric_only=None') is deprecated; in a future version this will raise TypeError.  Select only valid columns before calling the reduction.\n",
            "  mult_group[ele] = df[df[xfac_var] == ele].mean().loc[res_var]\n"
          ]
        },
        {
          "output_type": "execute_result",
          "data": {
            "text/plain": [
              "     group1 group2        Diff       Lower       Upper    q-value  p-value\n",
              "0  proposed  mopso  523.329349  484.623140  562.035558  49.222317    0.001\n",
              "1  proposed  nsga2  285.580471  246.874261  324.286680  26.860585    0.001\n",
              "2  proposed  nsga3  206.586748  167.880539  245.292957  19.430744    0.001\n",
              "3     mopso  nsga2  237.748879  199.042669  276.455088  22.361732    0.001\n",
              "4     mopso  nsga3  316.742601  278.036392  355.448810  29.791573    0.001\n",
              "5     nsga2  nsga3   78.993722   40.287513  117.699932   7.429841    0.001"
            ],
            "text/html": [
              "\n",
              "  <div id=\"df-a42e9649-41e9-415b-abc4-201683292473\">\n",
              "    <div class=\"colab-df-container\">\n",
              "      <div>\n",
              "<style scoped>\n",
              "    .dataframe tbody tr th:only-of-type {\n",
              "        vertical-align: middle;\n",
              "    }\n",
              "\n",
              "    .dataframe tbody tr th {\n",
              "        vertical-align: top;\n",
              "    }\n",
              "\n",
              "    .dataframe thead th {\n",
              "        text-align: right;\n",
              "    }\n",
              "</style>\n",
              "<table border=\"1\" class=\"dataframe\">\n",
              "  <thead>\n",
              "    <tr style=\"text-align: right;\">\n",
              "      <th></th>\n",
              "      <th>group1</th>\n",
              "      <th>group2</th>\n",
              "      <th>Diff</th>\n",
              "      <th>Lower</th>\n",
              "      <th>Upper</th>\n",
              "      <th>q-value</th>\n",
              "      <th>p-value</th>\n",
              "    </tr>\n",
              "  </thead>\n",
              "  <tbody>\n",
              "    <tr>\n",
              "      <th>0</th>\n",
              "      <td>proposed</td>\n",
              "      <td>mopso</td>\n",
              "      <td>523.329349</td>\n",
              "      <td>484.623140</td>\n",
              "      <td>562.035558</td>\n",
              "      <td>49.222317</td>\n",
              "      <td>0.001</td>\n",
              "    </tr>\n",
              "    <tr>\n",
              "      <th>1</th>\n",
              "      <td>proposed</td>\n",
              "      <td>nsga2</td>\n",
              "      <td>285.580471</td>\n",
              "      <td>246.874261</td>\n",
              "      <td>324.286680</td>\n",
              "      <td>26.860585</td>\n",
              "      <td>0.001</td>\n",
              "    </tr>\n",
              "    <tr>\n",
              "      <th>2</th>\n",
              "      <td>proposed</td>\n",
              "      <td>nsga3</td>\n",
              "      <td>206.586748</td>\n",
              "      <td>167.880539</td>\n",
              "      <td>245.292957</td>\n",
              "      <td>19.430744</td>\n",
              "      <td>0.001</td>\n",
              "    </tr>\n",
              "    <tr>\n",
              "      <th>3</th>\n",
              "      <td>mopso</td>\n",
              "      <td>nsga2</td>\n",
              "      <td>237.748879</td>\n",
              "      <td>199.042669</td>\n",
              "      <td>276.455088</td>\n",
              "      <td>22.361732</td>\n",
              "      <td>0.001</td>\n",
              "    </tr>\n",
              "    <tr>\n",
              "      <th>4</th>\n",
              "      <td>mopso</td>\n",
              "      <td>nsga3</td>\n",
              "      <td>316.742601</td>\n",
              "      <td>278.036392</td>\n",
              "      <td>355.448810</td>\n",
              "      <td>29.791573</td>\n",
              "      <td>0.001</td>\n",
              "    </tr>\n",
              "    <tr>\n",
              "      <th>5</th>\n",
              "      <td>nsga2</td>\n",
              "      <td>nsga3</td>\n",
              "      <td>78.993722</td>\n",
              "      <td>40.287513</td>\n",
              "      <td>117.699932</td>\n",
              "      <td>7.429841</td>\n",
              "      <td>0.001</td>\n",
              "    </tr>\n",
              "  </tbody>\n",
              "</table>\n",
              "</div>\n",
              "      <button class=\"colab-df-convert\" onclick=\"convertToInteractive('df-a42e9649-41e9-415b-abc4-201683292473')\"\n",
              "              title=\"Convert this dataframe to an interactive table.\"\n",
              "              style=\"display:none;\">\n",
              "        \n",
              "  <svg xmlns=\"http://www.w3.org/2000/svg\" height=\"24px\"viewBox=\"0 0 24 24\"\n",
              "       width=\"24px\">\n",
              "    <path d=\"M0 0h24v24H0V0z\" fill=\"none\"/>\n",
              "    <path d=\"M18.56 5.44l.94 2.06.94-2.06 2.06-.94-2.06-.94-.94-2.06-.94 2.06-2.06.94zm-11 1L8.5 8.5l.94-2.06 2.06-.94-2.06-.94L8.5 2.5l-.94 2.06-2.06.94zm10 10l.94 2.06.94-2.06 2.06-.94-2.06-.94-.94-2.06-.94 2.06-2.06.94z\"/><path d=\"M17.41 7.96l-1.37-1.37c-.4-.4-.92-.59-1.43-.59-.52 0-1.04.2-1.43.59L10.3 9.45l-7.72 7.72c-.78.78-.78 2.05 0 2.83L4 21.41c.39.39.9.59 1.41.59.51 0 1.02-.2 1.41-.59l7.78-7.78 2.81-2.81c.8-.78.8-2.07 0-2.86zM5.41 20L4 18.59l7.72-7.72 1.47 1.35L5.41 20z\"/>\n",
              "  </svg>\n",
              "      </button>\n",
              "      \n",
              "  <style>\n",
              "    .colab-df-container {\n",
              "      display:flex;\n",
              "      flex-wrap:wrap;\n",
              "      gap: 12px;\n",
              "    }\n",
              "\n",
              "    .colab-df-convert {\n",
              "      background-color: #E8F0FE;\n",
              "      border: none;\n",
              "      border-radius: 50%;\n",
              "      cursor: pointer;\n",
              "      display: none;\n",
              "      fill: #1967D2;\n",
              "      height: 32px;\n",
              "      padding: 0 0 0 0;\n",
              "      width: 32px;\n",
              "    }\n",
              "\n",
              "    .colab-df-convert:hover {\n",
              "      background-color: #E2EBFA;\n",
              "      box-shadow: 0px 1px 2px rgba(60, 64, 67, 0.3), 0px 1px 3px 1px rgba(60, 64, 67, 0.15);\n",
              "      fill: #174EA6;\n",
              "    }\n",
              "\n",
              "    [theme=dark] .colab-df-convert {\n",
              "      background-color: #3B4455;\n",
              "      fill: #D2E3FC;\n",
              "    }\n",
              "\n",
              "    [theme=dark] .colab-df-convert:hover {\n",
              "      background-color: #434B5C;\n",
              "      box-shadow: 0px 1px 3px 1px rgba(0, 0, 0, 0.15);\n",
              "      filter: drop-shadow(0px 1px 2px rgba(0, 0, 0, 0.3));\n",
              "      fill: #FFFFFF;\n",
              "    }\n",
              "  </style>\n",
              "\n",
              "      <script>\n",
              "        const buttonEl =\n",
              "          document.querySelector('#df-a42e9649-41e9-415b-abc4-201683292473 button.colab-df-convert');\n",
              "        buttonEl.style.display =\n",
              "          google.colab.kernel.accessAllowed ? 'block' : 'none';\n",
              "\n",
              "        async function convertToInteractive(key) {\n",
              "          const element = document.querySelector('#df-a42e9649-41e9-415b-abc4-201683292473');\n",
              "          const dataTable =\n",
              "            await google.colab.kernel.invokeFunction('convertToInteractive',\n",
              "                                                     [key], {});\n",
              "          if (!dataTable) return;\n",
              "\n",
              "          const docLinkHtml = 'Like what you see? Visit the ' +\n",
              "            '<a target=\"_blank\" href=https://colab.research.google.com/notebooks/data_table.ipynb>data table notebook</a>'\n",
              "            + ' to learn more about interactive tables.';\n",
              "          element.innerHTML = '';\n",
              "          dataTable['output_type'] = 'display_data';\n",
              "          await google.colab.output.renderOutput(dataTable, element);\n",
              "          const docLink = document.createElement('div');\n",
              "          docLink.innerHTML = docLinkHtml;\n",
              "          element.appendChild(docLink);\n",
              "        }\n",
              "      </script>\n",
              "    </div>\n",
              "  </div>\n",
              "  "
            ]
          },
          "metadata": {},
          "execution_count": 271
        }
      ]
    },
    {
      "cell_type": "markdown",
      "source": [
        "**Interpretation of Post-HOC:** *Above results from Tukey’s HSD suggests that except A-C, all other pairwise comparisons for controller location means rejects null hypothesis (p < 0.05) and indicates statistical significant differences between the pair of final output loss.*\n",
        "\n",
        "---"
      ],
      "metadata": {
        "id": "uXi5KiD9TrZW"
      }
    },
    {
      "cell_type": "markdown",
      "source": [
        "## **Normal distribution:**\n",
        "\n"
      ],
      "metadata": {
        "id": "EAzsc4CFdbGD"
      }
    },
    {
      "cell_type": "code",
      "source": [
        "#Test ANOVA assumptionsPermalink\n",
        "#ANOVA assumptions can be checked using test statistics (e.g. Shapiro-Wilk, Bartlett’s, Levene’s test, Brown-Forsythe test) \n",
        "#and the visual approaches such as residual plots (e.g. QQ-plots) and histograms.\n",
        "\n",
        "#The visual approaches perform better than statistical tests. For example, the Shapiro-Wilk test has low power for small \n",
        "#sample size data and deviates significantly from normality for large sample sizes (say n > 50). For large sample sizes, you \n",
        "#should consider to use QQ-plot for normality assumption.\n",
        "\n",
        "# QQ-plot\n",
        "import statsmodels.api as sm\n",
        "import matplotlib.pyplot as plt\n",
        "# res.anova_std_residuals are standardized residuals obtained from ANOVA (check above)\n",
        "sm.qqplot(res.anova_std_residuals, line='45')\n",
        "plt.xlabel(\"Theoretical Quantiles\")\n",
        "plt.ylabel(\"Standardized Residuals\")\n",
        "plt.show()\n",
        "\n",
        "# histogram\n",
        "plt.hist(res.anova_model_out.resid, bins='auto', histtype='bar', ec='k') \n",
        "plt.xlabel(\"Residuals\")\n",
        "plt.ylabel('Frequency')\n",
        "plt.show()"
      ],
      "metadata": {
        "id": "0OYPHIkfQaw-",
        "colab": {
          "base_uri": "https://localhost:8080/",
          "height": 541
        },
        "outputId": "2af405fe-c726-4798-8aaa-a1ef31adcdbe"
      },
      "execution_count": null,
      "outputs": [
        {
          "output_type": "display_data",
          "data": {
            "text/plain": [
              "<Figure size 432x288 with 1 Axes>"
            ],
            "image/png": "[encoded data removed]"
          },
          "metadata": {
            "needs_background": "light"
          }
        },
        {
          "output_type": "display_data",
          "data": {
            "text/plain": [
              "<Figure size 432x288 with 1 Axes>"
            ],
            "image/png": "[encoded data removed]"
          },
          "metadata": {
            "needs_background": "light"
          }
        }
      ]
    },
    {
      "cell_type": "markdown",
      "source": [
        "**Interpretation of standardized residuals plot:**\n",
        "*As the standardized residuals lie closely around the 45-degree line, it suggests that the residuals are are likely to be approximately normally distributed.*\n",
        "\n",
        "**Interpretation of histogram plot:**\n",
        "In the histogram, the distribution looks approximately left tailed and suggests that residuals are not like to be approximately normally distributed. \n",
        "\n",
        "The normal distrinution and homogenuity teste will be conducted for confirmation of what we suspected in the graph.\n",
        "\n",
        "---"
      ],
      "metadata": {
        "id": "hKWd3Q1SVCCr"
      }
    },
    {
      "cell_type": "markdown",
      "source": [
        "## **Shapiro-Wilk test for Normality assumption test:**\n",
        "\n",
        "H0: The dataset is drawn from normal distribution at 5% significant level.\n",
        "\n",
        "H1: The dataset is not drawn from normal distribution at 5% significant level."
      ],
      "metadata": {
        "id": "YmAHK18MdsM1"
      }
    },
    {
      "cell_type": "code",
      "source": [
        "#Shapiro-Wilk test can be used to check the normal distribution of residuals. Null hypothesis: data is drawn from normal distribution.\n",
        "\n",
        "import scipy.stats as stats\n",
        "w, pvalue = stats.shapiro(model.resid)\n",
        "print(w, pvalue)\n",
        "\n",
        "print(\"==============================\")\n",
        "\n",
        "if (pvalue > 0.05):\n",
        "  print(\" Decision: Accept the Null hypothesis \\n Interpretation: The data is drawn from normal distribution at 5% significant level\")\n",
        "else:\n",
        "  print(\" Decision: Reject the Null hypothesis \\n Interpretation: The data is NOT drawn from normal distribution at 5% significant level\")"
      ],
      "metadata": {
        "id": "bXGByt97aDGG",
        "colab": {
          "base_uri": "https://localhost:8080/"
        },
        "outputId": "a7062698-960c-41c3-e107-fee0bc8444b1"
      },
      "execution_count": null,
      "outputs": [
        {
          "output_type": "stream",
          "name": "stdout",
          "text": [
            "0.9675437211990356 1.1072497085873323e-12\n",
            "==============================\n",
            " Decision: Reject the Null hypothesis \n",
            " Interpretation: The data is NOT drawn from normal distribution at 5% significant level\n"
          ]
        }
      ]
    },
    {
      "cell_type": "markdown",
      "source": [
        "\n",
        "\n",
        "---\n",
        "\n",
        "\n",
        "## **Homogeneity of variances test:**\n",
        "\n",
        "**H0:** The four Samples, from the populations, have equal variances.\n",
        "\n",
        "**H1:** The four Samples, from the populations, do not have equal variances."
      ],
      "metadata": {
        "id": "2mNdTrg4cGbA"
      }
    },
    {
      "cell_type": "markdown",
      "source": [
        "# **Bartlett's test**\n",
        "*Below is bartlett's test for equality of variance test.*"
      ],
      "metadata": {
        "id": "L0BaFUpdhdmU"
      }
    },
    {
      "cell_type": "code",
      "source": [
        "import scipy.stats as stats\n",
        "w, pvalue = stats.bartlett(df['proposed'], df['mopso'], df['nsga2'], df['nsga3'])\n",
        "print(w, pvalue)\n",
        "\n",
        "# if you have a stacked table, you can use bioinfokit v1.0.3 or later for the bartlett's test\n",
        "from bioinfokit.analys import stat \n",
        "res = stat()\n",
        "res.bartlett(df=df_melt, res_var='value', xfac_var='treatments')\n",
        "res.bartlett_summary\n",
        "#res.bartlett_summary.values"
      ],
      "metadata": {
        "id": "O6NwgWbKbsMD",
        "colab": {
          "base_uri": "https://localhost:8080/",
          "height": 161
        },
        "outputId": "7e37a725-fa23-4c56-a238-cc4533dafe7d"
      },
      "execution_count": null,
      "outputs": [
        {
          "output_type": "stream",
          "name": "stdout",
          "text": [
            "270.3730332464351 2.5630732141706028e-58\n"
          ]
        },
        {
          "output_type": "execute_result",
          "data": {
            "text/plain": [
              "                 Parameter    Value\n",
              "0      Test statistics (T)  270.373\n",
              "1  Degrees of freedom (Df)    3.000\n",
              "2                  p value    0.000"
            ],
            "text/html": [
              "\n",
              "  <div id=\"df-4ebeb793-dacf-4b60-b17a-dd4765c6a91a\">\n",
              "    <div class=\"colab-df-container\">\n",
              "      <div>\n",
              "<style scoped>\n",
              "    .dataframe tbody tr th:only-of-type {\n",
              "        vertical-align: middle;\n",
              "    }\n",
              "\n",
              "    .dataframe tbody tr th {\n",
              "        vertical-align: top;\n",
              "    }\n",
              "\n",
              "    .dataframe thead th {\n",
              "        text-align: right;\n",
              "    }\n",
              "</style>\n",
              "<table border=\"1\" class=\"dataframe\">\n",
              "  <thead>\n",
              "    <tr style=\"text-align: right;\">\n",
              "      <th></th>\n",
              "      <th>Parameter</th>\n",
              "      <th>Value</th>\n",
              "    </tr>\n",
              "  </thead>\n",
              "  <tbody>\n",
              "    <tr>\n",
              "      <th>0</th>\n",
              "      <td>Test statistics (T)</td>\n",
              "      <td>270.373</td>\n",
              "    </tr>\n",
              "    <tr>\n",
              "      <th>1</th>\n",
              "      <td>Degrees of freedom (Df)</td>\n",
              "      <td>3.000</td>\n",
              "    </tr>\n",
              "    <tr>\n",
              "      <th>2</th>\n",
              "      <td>p value</td>\n",
              "      <td>0.000</td>\n",
              "    </tr>\n",
              "  </tbody>\n",
              "</table>\n",
              "</div>\n",
              "      <button class=\"colab-df-convert\" onclick=\"convertToInteractive('df-4ebeb793-dacf-4b60-b17a-dd4765c6a91a')\"\n",
              "              title=\"Convert this dataframe to an interactive table.\"\n",
              "              style=\"display:none;\">\n",
              "        \n",
              "  <svg xmlns=\"http://www.w3.org/2000/svg\" height=\"24px\"viewBox=\"0 0 24 24\"\n",
              "       width=\"24px\">\n",
              "    <path d=\"M0 0h24v24H0V0z\" fill=\"none\"/>\n",
              "    <path d=\"M18.56 5.44l.94 2.06.94-2.06 2.06-.94-2.06-.94-.94-2.06-.94 2.06-2.06.94zm-11 1L8.5 8.5l.94-2.06 2.06-.94-2.06-.94L8.5 2.5l-.94 2.06-2.06.94zm10 10l.94 2.06.94-2.06 2.06-.94-2.06-.94-.94-2.06-.94 2.06-2.06.94z\"/><path d=\"M17.41 7.96l-1.37-1.37c-.4-.4-.92-.59-1.43-.59-.52 0-1.04.2-1.43.59L10.3 9.45l-7.72 7.72c-.78.78-.78 2.05 0 2.83L4 21.41c.39.39.9.59 1.41.59.51 0 1.02-.2 1.41-.59l7.78-7.78 2.81-2.81c.8-.78.8-2.07 0-2.86zM5.41 20L4 18.59l7.72-7.72 1.47 1.35L5.41 20z\"/>\n",
              "  </svg>\n",
              "      </button>\n",
              "      \n",
              "  <style>\n",
              "    .colab-df-container {\n",
              "      display:flex;\n",
              "      flex-wrap:wrap;\n",
              "      gap: 12px;\n",
              "    }\n",
              "\n",
              "    .colab-df-convert {\n",
              "      background-color: #E8F0FE;\n",
              "      border: none;\n",
              "      border-radius: 50%;\n",
              "      cursor: pointer;\n",
              "      display: none;\n",
              "      fill: #1967D2;\n",
              "      height: 32px;\n",
              "      padding: 0 0 0 0;\n",
              "      width: 32px;\n",
              "    }\n",
              "\n",
              "    .colab-df-convert:hover {\n",
              "      background-color: #E2EBFA;\n",
              "      box-shadow: 0px 1px 2px rgba(60, 64, 67, 0.3), 0px 1px 3px 1px rgba(60, 64, 67, 0.15);\n",
              "      fill: #174EA6;\n",
              "    }\n",
              "\n",
              "    [theme=dark] .colab-df-convert {\n",
              "      background-color: #3B4455;\n",
              "      fill: #D2E3FC;\n",
              "    }\n",
              "\n",
              "    [theme=dark] .colab-df-convert:hover {\n",
              "      background-color: #434B5C;\n",
              "      box-shadow: 0px 1px 3px 1px rgba(0, 0, 0, 0.15);\n",
              "      filter: drop-shadow(0px 1px 2px rgba(0, 0, 0, 0.3));\n",
              "      fill: #FFFFFF;\n",
              "    }\n",
              "  </style>\n",
              "\n",
              "      <script>\n",
              "        const buttonEl =\n",
              "          document.querySelector('#df-4ebeb793-dacf-4b60-b17a-dd4765c6a91a button.colab-df-convert');\n",
              "        buttonEl.style.display =\n",
              "          google.colab.kernel.accessAllowed ? 'block' : 'none';\n",
              "\n",
              "        async function convertToInteractive(key) {\n",
              "          const element = document.querySelector('#df-4ebeb793-dacf-4b60-b17a-dd4765c6a91a');\n",
              "          const dataTable =\n",
              "            await google.colab.kernel.invokeFunction('convertToInteractive',\n",
              "                                                     [key], {});\n",
              "          if (!dataTable) return;\n",
              "\n",
              "          const docLinkHtml = 'Like what you see? Visit the ' +\n",
              "            '<a target=\"_blank\" href=https://colab.research.google.com/notebooks/data_table.ipynb>data table notebook</a>'\n",
              "            + ' to learn more about interactive tables.';\n",
              "          element.innerHTML = '';\n",
              "          dataTable['output_type'] = 'display_data';\n",
              "          await google.colab.output.renderOutput(dataTable, element);\n",
              "          const docLink = document.createElement('div');\n",
              "          docLink.innerHTML = docLinkHtml;\n",
              "          element.appendChild(docLink);\n",
              "        }\n",
              "      </script>\n",
              "    </div>\n",
              "  </div>\n",
              "  "
            ]
          },
          "metadata": {},
          "execution_count": 274
        }
      ]
    },
    {
      "cell_type": "markdown",
      "source": [
        "# **Levene's test**\n",
        "*Below is levene's test for equality of variance test.*"
      ],
      "metadata": {
        "id": "RGvvuBcnh2KV"
      }
    },
    {
      "cell_type": "code",
      "source": [
        "# if you have a stacked table, you can use bioinfokit v1.0.3 or later for the Levene's test\n",
        "from bioinfokit.analys import stat \n",
        "res = stat()\n",
        "res.levene(df=df_melt, res_var='value', xfac_var='treatments')\n",
        "res.levene_summary"
      ],
      "metadata": {
        "id": "TwmAL4CihXii",
        "colab": {
          "base_uri": "https://localhost:8080/",
          "height": 143
        },
        "outputId": "feaf8626-2141-4d25-cbc3-cb335dfc71a7"
      },
      "execution_count": null,
      "outputs": [
        {
          "output_type": "execute_result",
          "data": {
            "text/plain": [
              "                 Parameter    Value\n",
              "0      Test statistics (W)  37.4571\n",
              "1  Degrees of freedom (Df)   3.0000\n",
              "2                  p value   0.0000"
            ],
            "text/html": [
              "\n",
              "  <div id=\"df-c912fd31-a386-48f2-81cd-6840f9d42d69\">\n",
              "    <div class=\"colab-df-container\">\n",
              "      <div>\n",
              "<style scoped>\n",
              "    .dataframe tbody tr th:only-of-type {\n",
              "        vertical-align: middle;\n",
              "    }\n",
              "\n",
              "    .dataframe tbody tr th {\n",
              "        vertical-align: top;\n",
              "    }\n",
              "\n",
              "    .dataframe thead th {\n",
              "        text-align: right;\n",
              "    }\n",
              "</style>\n",
              "<table border=\"1\" class=\"dataframe\">\n",
              "  <thead>\n",
              "    <tr style=\"text-align: right;\">\n",
              "      <th></th>\n",
              "      <th>Parameter</th>\n",
              "      <th>Value</th>\n",
              "    </tr>\n",
              "  </thead>\n",
              "  <tbody>\n",
              "    <tr>\n",
              "      <th>0</th>\n",
              "      <td>Test statistics (W)</td>\n",
              "      <td>37.4571</td>\n",
              "    </tr>\n",
              "    <tr>\n",
              "      <th>1</th>\n",
              "      <td>Degrees of freedom (Df)</td>\n",
              "      <td>3.0000</td>\n",
              "    </tr>\n",
              "    <tr>\n",
              "      <th>2</th>\n",
              "      <td>p value</td>\n",
              "      <td>0.0000</td>\n",
              "    </tr>\n",
              "  </tbody>\n",
              "</table>\n",
              "</div>\n",
              "      <button class=\"colab-df-convert\" onclick=\"convertToInteractive('df-c912fd31-a386-48f2-81cd-6840f9d42d69')\"\n",
              "              title=\"Convert this dataframe to an interactive table.\"\n",
              "              style=\"display:none;\">\n",
              "        \n",
              "  <svg xmlns=\"http://www.w3.org/2000/svg\" height=\"24px\"viewBox=\"0 0 24 24\"\n",
              "       width=\"24px\">\n",
              "    <path d=\"M0 0h24v24H0V0z\" fill=\"none\"/>\n",
              "    <path d=\"M18.56 5.44l.94 2.06.94-2.06 2.06-.94-2.06-.94-.94-2.06-.94 2.06-2.06.94zm-11 1L8.5 8.5l.94-2.06 2.06-.94-2.06-.94L8.5 2.5l-.94 2.06-2.06.94zm10 10l.94 2.06.94-2.06 2.06-.94-2.06-.94-.94-2.06-.94 2.06-2.06.94z\"/><path d=\"M17.41 7.96l-1.37-1.37c-.4-.4-.92-.59-1.43-.59-.52 0-1.04.2-1.43.59L10.3 9.45l-7.72 7.72c-.78.78-.78 2.05 0 2.83L4 21.41c.39.39.9.59 1.41.59.51 0 1.02-.2 1.41-.59l7.78-7.78 2.81-2.81c.8-.78.8-2.07 0-2.86zM5.41 20L4 18.59l7.72-7.72 1.47 1.35L5.41 20z\"/>\n",
              "  </svg>\n",
              "      </button>\n",
              "      \n",
              "  <style>\n",
              "    .colab-df-container {\n",
              "      display:flex;\n",
              "      flex-wrap:wrap;\n",
              "      gap: 12px;\n",
              "    }\n",
              "\n",
              "    .colab-df-convert {\n",
              "      background-color: #E8F0FE;\n",
              "      border: none;\n",
              "      border-radius: 50%;\n",
              "      cursor: pointer;\n",
              "      display: none;\n",
              "      fill: #1967D2;\n",
              "      height: 32px;\n",
              "      padding: 0 0 0 0;\n",
              "      width: 32px;\n",
              "    }\n",
              "\n",
              "    .colab-df-convert:hover {\n",
              "      background-color: #E2EBFA;\n",
              "      box-shadow: 0px 1px 2px rgba(60, 64, 67, 0.3), 0px 1px 3px 1px rgba(60, 64, 67, 0.15);\n",
              "      fill: #174EA6;\n",
              "    }\n",
              "\n",
              "    [theme=dark] .colab-df-convert {\n",
              "      background-color: #3B4455;\n",
              "      fill: #D2E3FC;\n",
              "    }\n",
              "\n",
              "    [theme=dark] .colab-df-convert:hover {\n",
              "      background-color: #434B5C;\n",
              "      box-shadow: 0px 1px 3px 1px rgba(0, 0, 0, 0.15);\n",
              "      filter: drop-shadow(0px 1px 2px rgba(0, 0, 0, 0.3));\n",
              "      fill: #FFFFFF;\n",
              "    }\n",
              "  </style>\n",
              "\n",
              "      <script>\n",
              "        const buttonEl =\n",
              "          document.querySelector('#df-c912fd31-a386-48f2-81cd-6840f9d42d69 button.colab-df-convert');\n",
              "        buttonEl.style.display =\n",
              "          google.colab.kernel.accessAllowed ? 'block' : 'none';\n",
              "\n",
              "        async function convertToInteractive(key) {\n",
              "          const element = document.querySelector('#df-c912fd31-a386-48f2-81cd-6840f9d42d69');\n",
              "          const dataTable =\n",
              "            await google.colab.kernel.invokeFunction('convertToInteractive',\n",
              "                                                     [key], {});\n",
              "          if (!dataTable) return;\n",
              "\n",
              "          const docLinkHtml = 'Like what you see? Visit the ' +\n",
              "            '<a target=\"_blank\" href=https://colab.research.google.com/notebooks/data_table.ipynb>data table notebook</a>'\n",
              "            + ' to learn more about interactive tables.';\n",
              "          element.innerHTML = '';\n",
              "          dataTable['output_type'] = 'display_data';\n",
              "          await google.colab.output.renderOutput(dataTable, element);\n",
              "          const docLink = document.createElement('div');\n",
              "          docLink.innerHTML = docLinkHtml;\n",
              "          element.appendChild(docLink);\n",
              "        }\n",
              "      </script>\n",
              "    </div>\n",
              "  </div>\n",
              "  "
            ]
          },
          "metadata": {},
          "execution_count": 275
        }
      ]
    },
    {
      "cell_type": "markdown",
      "source": [
        "**Interpretation:**\n",
        "\n",
        "*As the p value, for both **Bartlett's test (0.0000 < 0.05) and levene test (0.0000 < 0.05)** is significant, we reject the null hypothesis and conclude that four algorithms do not have equal variances.*\n",
        "\n",
        "\n",
        "---\n",
        "\n"
      ],
      "metadata": {
        "id": "fqMZln30fkaO"
      }
    },
    {
      "cell_type": "markdown",
      "source": [
        "## **Kruskal-Wallis test**\n",
        "\n",
        "This test replaces the ANOVA test dues to the violation of the homoscedastisity of variance assumption.\n",
        "\n",
        "HO: There is no significant differences among network final output loss medians for the four algorithms at 5% significant level.\n",
        "\n",
        "H1: At least one of the algorithms produces the network final output loss median that is significantly different from other algorithms at 5% significant level.\n",
        "\n"
      ],
      "metadata": {
        "id": "EvVGOUvlGTzj"
      }
    },
    {
      "cell_type": "code",
      "source": [
        "from scipy.stats import kruskal\n",
        "\n",
        "# Separate the data into the groups based on the fourth column\n",
        "proposed_algorithm = df['proposed']\n",
        "mopso_algorithm = df['mopso']\n",
        "nsga2_algorithm = df['nsga2']\n",
        "nsga3_algorithm = df['nsga3']\n",
        "\n",
        "# Conduct the Kruskal-Wallis test on the groups\n",
        "stat, p = kruskal(proposed_algorithm, mopso_algorithm, nsga2_algorithm, nsga3_algorithm)\n",
        "\n",
        "# Print the results\n",
        "print('Kruskal-Wallis Test')\n",
        "print('-------------------')\n",
        "print('H statistic =', stat)\n",
        "print('p value =', p)\n",
        "\n",
        "print()\n",
        "\n",
        "# If the p-value is less than the significance level (usually 0.05), reject the null hypothesis\n",
        "if p < 0.05:\n",
        "    print(' Decision: There is significant evidence to reject the null hypothesis at 5% significant level. \\n Conclusion: At least one of the algorithms produces the network final output loss median that is significantly different from other algorithms at 5% significant level')\n",
        "else:\n",
        "    print('There is not enough evidence to reject the null hypothesis at 5% significant level. \\n Conclusion: There is no significant differences among network final output loss medians for the four algorithms at 5% significant level.')"
      ],
      "metadata": {
        "id": "abgxb7G2I9pU",
        "colab": {
          "base_uri": "https://localhost:8080/"
        },
        "outputId": "e6ea06cd-9af5-428f-d54c-b1b54576621a"
      },
      "execution_count": null,
      "outputs": [
        {
          "output_type": "stream",
          "name": "stdout",
          "text": [
            "Kruskal-Wallis Test\n",
            "-------------------\n",
            "H statistic = 547.4398221375352\n",
            "p value = 2.4937473240269875e-118\n",
            "\n",
            " Decision: There is significant evidence to reject the null hypothesis at 5% significant level. \n",
            " Conclusion: At least one of the algorithms produces the network final output loss median that is significantly different from other algorithms at 5% significant level\n"
          ]
        }
      ]
    },
    {
      "cell_type": "markdown",
      "source": [
        "**Since there is evidence that at least one of the algorithms produces the network final output loss median that is significantly different from other algorithms at 5% significant level, hence the test will compare the lagorithms pairwisely using the Pairwise Wilcoxon rank-sum test.**\n",
        "\n",
        "\n",
        "---\n",
        "\n",
        "\n",
        "\n",
        "## **Post HOC TesT: Pairwise Wilcoxon rank-sum test**"
      ],
      "metadata": {
        "id": "kC3w6JC4MhC4"
      }
    },
    {
      "cell_type": "code",
      "source": [
        "from scipy.stats import ranksums\n",
        "\n",
        "# data for groups A, B, and C\n",
        "print(\"The median will be compared for difference. The median for the final output loss for:\")\n",
        "print(\"Proposed Algorithm   :\", df['proposed'].median())\n",
        "print(\"Mopso Algorithm      :\", df['mopso'].median())\n",
        "print(\"NSGA-II Algorithm    :\", df['nsga2'].median())\n",
        "print(\"NSGA-III Algorithm   :\", df['nsga3'].median())\n",
        "print()\n",
        "\n",
        "# pairwise comparisons of groups\n",
        "print(\"Proposed Algorithm and Mopso Algorithm Comparism\")\n",
        "print(\"================================================\")\n",
        "print(ranksums(proposed_algorithm, mopso_algorithm))\n",
        "pvalue1 = ranksums(proposed_algorithm, mopso_algorithm).pvalue\n",
        "if (pvalue1 < 0.05):\n",
        "  print(\"The null hypothesis is rejected. It is concluded that there is significant difference \\n between the two median values of the two compared Algorithms at 5% signifiant level. \\n This implies that the proposed algorithm has significant low final output loss than the Mopso algorithm at 5% significant level.\")\n",
        "else:\n",
        "  print(\"The null hypothesis is accepted. It is concluded that there is no significant difference \\n between the two median values of the compared two Algorithms at 5% signifiant level. \\n This implies that any obseved difference between the medians of the two compared algorithms is not significant at 5% significant level.\")\n",
        "\n",
        "print()\n",
        "print(\"Proposed Algorithm and NSGA-II Algorithm Comparism\")\n",
        "print(\"================================================\")\n",
        "print(ranksums(proposed_algorithm, nsga2_algorithm))\n",
        "pvalue2 = ranksums(proposed_algorithm, nsga2_algorithm).pvalue\n",
        "if (pvalue2 < 0.05):\n",
        "  print(\"The null hypothesis is rejected. It is concluded that there is significant difference \\n between the two median values of the two compared Algorithms at 5% signifiant level. \\n This implies that the proposed algorithm has significant low final output loss than the Mopso algorithm at 5% significant level.\")\n",
        "else:\n",
        "  print(\"The null hypothesis is accepted. It is concluded that there is no significant difference \\n between the two median values of the compared two Algorithms at 5% signifiant level. \\n This implies that any obseved difference between the medians of the two compared algorithms is not significant at 5% significant level.\")\n",
        "\n",
        "print()\n",
        "print(\"Proposed Algorithm and NSGA-III Algorithm Comparism\")\n",
        "print(\"================================================\")\n",
        "print(ranksums(proposed_algorithm, nsga3_algorithm))\n",
        "pvalue3 = ranksums(proposed_algorithm, nsga3_algorithm).pvalue\n",
        "if (pvalue3 < 0.05):\n",
        "  print(\"The null hypothesis is rejected. It is concluded that there is significant difference \\n between the two median values of the two compared Algorithms at 5% signifiant level. \\n This implies that the proposed algorithm has significant low final output loss than the Mopso algorithm at 5% significant level.\")\n",
        "else:\n",
        "  print(\"The null hypothesis is accepted. It is concluded that there is no significant difference \\n between the two median values of the compared two Algorithms at 5% signifiant level. \\n This implies that any obseved difference between the medians of the two compared algorithms is not significant at 5% significant level.\")\n",
        "\n",
        "print()\n",
        "print(\"NSGA-II Algorithm and NSGA-III Algorithm Comparism\")\n",
        "print(\"================================================\")\n",
        "print(ranksums(nsga2_algorithm, nsga3_algorithm))\n",
        "pvalue4 = ranksums(nsga2_algorithm, nsga3_algorithm).pvalue\n",
        "if (pvalue4 < 0.05):\n",
        "  print(\"The null hypothesis is rejected. It is concluded that there is significant difference \\n between the two median values of the two compared Algorithms at 5% signifiant level. \\n This implies that the proposed algorithm has significant low final output loss than the Mopso algorithm at 5% significant level.\")\n",
        "else:\n",
        "  print(\"The null hypothesis is accepted. It is concluded that there is no significant difference \\n between the two median values of the compared two Algorithms at 5% signifiant level. \\n This implies that any obseved difference between the medians of the two compared algorithms is not significant at 5% significant level.\")\n",
        "\n",
        "print()\n",
        "print(\"Mopso Algorithm and NSGA-III Algorithm Comparism\")\n",
        "print(\"================================================\")\n",
        "print(ranksums(mopso_algorithm, nsga3_algorithm))\n",
        "pvalue5 = ranksums(mopso_algorithm, nsga3_algorithm).pvalue\n",
        "if (pvalue5 < 0.05):\n",
        "  print(\"The null hypothesis is rejected. It is concluded that there is significant difference \\n between the two median values of the two compared Algorithms at 5% signifiant level. \\n This implies that the proposed algorithm has significant low final output loss than the Mopso algorithm at 5% significant level.\")\n",
        "else:\n",
        "  print(\"The null hypothesis is accepted. It is concluded that there is no significant difference \\n between the two median values of the compared two Algorithms at 5% signifiant level. \\n This implies that any obseved difference between the medians of the two compared algorithms is not significant at 5% significant level.\")\n",
        "\n",
        "print()\n",
        "print(\"Mopso Algorithm and NSGA-II Algorithm Comparism\")\n",
        "print(\"================================================\")\n",
        "print(ranksums(mopso_algorithm, nsga2_algorithm))\n",
        "pvalue6 = ranksums(mopso_algorithm, nsga2_algorithm).pvalue\n",
        "if (pvalue6 < 0.05):\n",
        "  print(\"The null hypothesis is rejected. It is concluded that there is significant difference \\n between the two median values of the two compared Algorithms at 5% signifiant level. \\n This implies that the proposed algorithm has significant low final output loss than the Mopso algorithm at 5% significant level.\")\n",
        "else:\n",
        "  print(\"The null hypothesis is accepted. It is concluded that there is no significant difference \\n between the two median values of the compared two Algorithms at 5% signifiant level. \\n This implies that any obseved difference between the medians of the two compared algorithms is not significant at 5% significant level.\")\n"
      ],
      "metadata": {
        "id": "aTSkhT-8NJBh",
        "colab": {
          "base_uri": "https://localhost:8080/"
        },
        "outputId": "e757eb1e-24a2-4709-cf2d-0d798e0b682e"
      },
      "execution_count": null,
      "outputs": [
        {
          "output_type": "stream",
          "name": "stdout",
          "text": [
            "The median will be compared for difference. The median for the final output loss for:\n",
            "Proposed Algorithm   : 998.4189305\n",
            "Mopso Algorithm      : 1492.154173\n",
            "NSGA-II Algorithm    : 1318.060786\n",
            "NSGA-III Algorithm   : 1135.833079\n",
            "\n",
            "Proposed Algorithm and Mopso Algorithm Comparism\n",
            "================================================\n",
            "RanksumsResult(statistic=-17.636206316605595, pvalue=1.2989416968608584e-69)\n",
            "The null hypothesis is rejected. It is concluded that there is significant difference \n",
            " between the two median values of the two compared Algorithms at 5% signifiant level. \n",
            " This implies that the proposed algorithm has significant low final output loss than the Mopso algorithm at 5% significant level.\n",
            "\n",
            "Proposed Algorithm and NSGA-II Algorithm Comparism\n",
            "================================================\n",
            "RanksumsResult(statistic=-13.538190193544098, pvalue=9.305331701826858e-42)\n",
            "The null hypothesis is rejected. It is concluded that there is significant difference \n",
            " between the two median values of the two compared Algorithms at 5% signifiant level. \n",
            " This implies that the proposed algorithm has significant low final output loss than the Mopso algorithm at 5% significant level.\n",
            "\n",
            "Proposed Algorithm and NSGA-III Algorithm Comparism\n",
            "================================================\n",
            "RanksumsResult(statistic=-11.100109469074988, pvalue=1.252903356368298e-28)\n",
            "The null hypothesis is rejected. It is concluded that there is significant difference \n",
            " between the two median values of the two compared Algorithms at 5% signifiant level. \n",
            " This implies that the proposed algorithm has significant low final output loss than the Mopso algorithm at 5% significant level.\n",
            "\n",
            "NSGA-II Algorithm and NSGA-III Algorithm Comparism\n",
            "================================================\n",
            "RanksumsResult(statistic=4.727172125357244, pvalue=2.2766826600821443e-06)\n",
            "The null hypothesis is rejected. It is concluded that there is significant difference \n",
            " between the two median values of the two compared Algorithms at 5% signifiant level. \n",
            " This implies that the proposed algorithm has significant low final output loss than the Mopso algorithm at 5% significant level.\n",
            "\n",
            "Mopso Algorithm and NSGA-III Algorithm Comparism\n",
            "================================================\n",
            "RanksumsResult(statistic=16.71312029007129, pvalue=1.0518462090458277e-62)\n",
            "The null hypothesis is rejected. It is concluded that there is significant difference \n",
            " between the two median values of the two compared Algorithms at 5% signifiant level. \n",
            " This implies that the proposed algorithm has significant low final output loss than the Mopso algorithm at 5% significant level.\n",
            "\n",
            "Mopso Algorithm and NSGA-II Algorithm Comparism\n",
            "================================================\n",
            "RanksumsResult(statistic=15.348329502594478, pvalue=3.6342465335086066e-53)\n",
            "The null hypothesis is rejected. It is concluded that there is significant difference \n",
            " between the two median values of the two compared Algorithms at 5% signifiant level. \n",
            " This implies that the proposed algorithm has significant low final output loss than the Mopso algorithm at 5% significant level.\n"
          ]
        }
      ]
    }
  ]
}